{
  "nbformat": 4,
  "nbformat_minor": 0,
  "metadata": {
    "colab": {
      "provenance": [],
      "gpuType": "T4",
      "authorship_tag": "ABX9TyOPaLcEuODG/X2feGxovUn+",
      "include_colab_link": true
    },
    "kernelspec": {
      "name": "python3",
      "display_name": "Python 3"
    },
    "language_info": {
      "name": "python"
    },
    "accelerator": "GPU"
  },
  "cells": [
    {
      "cell_type": "markdown",
      "metadata": {
        "id": "view-in-github",
        "colab_type": "text"
      },
      "source": [
        "<a href=\"https://colab.research.google.com/github/Areeb-07/EE-769/blob/main/EE_769_Project.ipynb\" target=\"_parent\"><img src=\"https://colab.research.google.com/assets/colab-badge.svg\" alt=\"Open In Colab\"/></a>"
      ]
    },
    {
      "cell_type": "markdown",
      "source": [
        "# EE 769 Project"
      ],
      "metadata": {
        "id": "bvaFDQSx5KZ_"
      }
    },
    {
      "cell_type": "markdown",
      "source": [
        "### Importing necessary libraries"
      ],
      "metadata": {
        "id": "qKU6AJ3G5Uli"
      }
    },
    {
      "cell_type": "code",
      "execution_count": 1,
      "metadata": {
        "id": "EfkzzBI-Mj3p"
      },
      "outputs": [],
      "source": [
        "import numpy as np\n",
        "import pandas as pd\n",
        "import re\n",
        "import random"
      ]
    },
    {
      "cell_type": "markdown",
      "source": [
        "### Downloading the dataset"
      ],
      "metadata": {
        "id": "L2fLYdNP5fd1"
      }
    },
    {
      "cell_type": "code",
      "source": [
        "!gdown 1mglhIqLPtXBv-QXzQI1ucfMxoQjFCIBs"
      ],
      "metadata": {
        "colab": {
          "base_uri": "https://localhost:8080/"
        },
        "id": "KFcG-HbSNBrp",
        "outputId": "350c2443-c9b2-4069-fdbd-4770a41a779f"
      },
      "execution_count": 99,
      "outputs": [
        {
          "output_type": "stream",
          "name": "stdout",
          "text": [
            "Downloading...\n",
            "From (original): https://drive.google.com/uc?id=1mglhIqLPtXBv-QXzQI1ucfMxoQjFCIBs\n",
            "From (redirected): https://drive.google.com/uc?id=1mglhIqLPtXBv-QXzQI1ucfMxoQjFCIBs&confirm=t&uuid=346df880-c2af-4bdd-b369-a8862a17bb79\n",
            "To: /content/all_talks_train.tsv\n",
            "100% 848M/848M [00:14<00:00, 57.5MB/s]\n"
          ]
        }
      ]
    },
    {
      "cell_type": "code",
      "source": [
        "data = pd.read_csv('/content/all_talks_train.tsv', sep = '\\t')"
      ],
      "metadata": {
        "id": "qwNcx-F5N2d9"
      },
      "execution_count": 100,
      "outputs": []
    },
    {
      "cell_type": "markdown",
      "source": [
        "The dataset contains 258098 sentences translated into 60 languages. As can be seen below, some of the fields are null"
      ],
      "metadata": {
        "id": "YHc7NsFU6BEf"
      }
    },
    {
      "cell_type": "code",
      "source": [
        "data.info()"
      ],
      "metadata": {
        "id": "avGj1t7qN5Ho",
        "colab": {
          "base_uri": "https://localhost:8080/"
        },
        "outputId": "78a6d3af-bb10-430c-edfd-f0fee39e2222"
      },
      "execution_count": 101,
      "outputs": [
        {
          "output_type": "stream",
          "name": "stdout",
          "text": [
            "<class 'pandas.core.frame.DataFrame'>\n",
            "RangeIndex: 258098 entries, 0 to 258097\n",
            "Data columns (total 61 columns):\n",
            " #   Column     Non-Null Count   Dtype \n",
            "---  ------     --------------   ----- \n",
            " 0   talk_name  258098 non-null  object\n",
            " 1   en         258098 non-null  object\n",
            " 2   es         258088 non-null  object\n",
            " 3   pt-br      258098 non-null  object\n",
            " 4   fr         258098 non-null  object\n",
            " 5   ru         258098 non-null  object\n",
            " 6   he         258097 non-null  object\n",
            " 7   ar         258098 non-null  object\n",
            " 8   ko         258098 non-null  object\n",
            " 9   zh-cn      258098 non-null  object\n",
            " 10  it         258098 non-null  object\n",
            " 11  ja         258097 non-null  object\n",
            " 12  zh-tw      258098 non-null  object\n",
            " 13  nl         258098 non-null  object\n",
            " 14  ro         258039 non-null  object\n",
            " 15  tr         258098 non-null  object\n",
            " 16  de         257874 non-null  object\n",
            " 17  vi         258098 non-null  object\n",
            " 18  pl         257889 non-null  object\n",
            " 19  pt         258098 non-null  object\n",
            " 20  bg         258098 non-null  object\n",
            " 21  el         258098 non-null  object\n",
            " 22  fa         258098 non-null  object\n",
            " 23  sr         258098 non-null  object\n",
            " 24  hu         258098 non-null  object\n",
            " 25  hr         258098 non-null  object\n",
            " 26  uk         258098 non-null  object\n",
            " 27  cs         258097 non-null  object\n",
            " 28  id         258098 non-null  object\n",
            " 29  th         258098 non-null  object\n",
            " 30  sv         258098 non-null  object\n",
            " 31  sk         258098 non-null  object\n",
            " 32  sq         258098 non-null  object\n",
            " 33  lt         258098 non-null  object\n",
            " 34  da         258098 non-null  object\n",
            " 35  calv       258098 non-null  object\n",
            " 36  my         258098 non-null  object\n",
            " 37  sl         258098 non-null  object\n",
            " 38  mk         258098 non-null  object\n",
            " 39  fr-ca      258098 non-null  object\n",
            " 40  fi         258098 non-null  object\n",
            " 41  hy         258098 non-null  object\n",
            " 42  hi         258098 non-null  object\n",
            " 43  nb         258098 non-null  object\n",
            " 44  ka         258098 non-null  object\n",
            " 45  mn         258098 non-null  object\n",
            " 46  et         258098 non-null  object\n",
            " 47  ku         258029 non-null  object\n",
            " 48  gl         258098 non-null  object\n",
            " 49  mr         258098 non-null  object\n",
            " 50  zh         258098 non-null  object\n",
            " 51  ur         258098 non-null  object\n",
            " 52  eo         258097 non-null  object\n",
            " 53  ms         258098 non-null  object\n",
            " 54  az         258098 non-null  object\n",
            " 55  ta         258098 non-null  object\n",
            " 56  bn         258098 non-null  object\n",
            " 57  kk         258098 non-null  object\n",
            " 58  be         258098 non-null  object\n",
            " 59  eu         258098 non-null  object\n",
            " 60  bs         258098 non-null  object\n",
            "dtypes: object(61)\n",
            "memory usage: 120.1+ MB\n"
          ]
        }
      ]
    },
    {
      "cell_type": "code",
      "source": [
        "data.fillna('', inplace=True)\n",
        "data.info()"
      ],
      "metadata": {
        "id": "4Frt61KaN7MF",
        "colab": {
          "base_uri": "https://localhost:8080/"
        },
        "outputId": "89932e13-be95-4ad9-8a09-f9f37afde5b6"
      },
      "execution_count": 102,
      "outputs": [
        {
          "output_type": "stream",
          "name": "stdout",
          "text": [
            "<class 'pandas.core.frame.DataFrame'>\n",
            "RangeIndex: 258098 entries, 0 to 258097\n",
            "Data columns (total 61 columns):\n",
            " #   Column     Non-Null Count   Dtype \n",
            "---  ------     --------------   ----- \n",
            " 0   talk_name  258098 non-null  object\n",
            " 1   en         258098 non-null  object\n",
            " 2   es         258098 non-null  object\n",
            " 3   pt-br      258098 non-null  object\n",
            " 4   fr         258098 non-null  object\n",
            " 5   ru         258098 non-null  object\n",
            " 6   he         258098 non-null  object\n",
            " 7   ar         258098 non-null  object\n",
            " 8   ko         258098 non-null  object\n",
            " 9   zh-cn      258098 non-null  object\n",
            " 10  it         258098 non-null  object\n",
            " 11  ja         258098 non-null  object\n",
            " 12  zh-tw      258098 non-null  object\n",
            " 13  nl         258098 non-null  object\n",
            " 14  ro         258098 non-null  object\n",
            " 15  tr         258098 non-null  object\n",
            " 16  de         258098 non-null  object\n",
            " 17  vi         258098 non-null  object\n",
            " 18  pl         258098 non-null  object\n",
            " 19  pt         258098 non-null  object\n",
            " 20  bg         258098 non-null  object\n",
            " 21  el         258098 non-null  object\n",
            " 22  fa         258098 non-null  object\n",
            " 23  sr         258098 non-null  object\n",
            " 24  hu         258098 non-null  object\n",
            " 25  hr         258098 non-null  object\n",
            " 26  uk         258098 non-null  object\n",
            " 27  cs         258098 non-null  object\n",
            " 28  id         258098 non-null  object\n",
            " 29  th         258098 non-null  object\n",
            " 30  sv         258098 non-null  object\n",
            " 31  sk         258098 non-null  object\n",
            " 32  sq         258098 non-null  object\n",
            " 33  lt         258098 non-null  object\n",
            " 34  da         258098 non-null  object\n",
            " 35  calv       258098 non-null  object\n",
            " 36  my         258098 non-null  object\n",
            " 37  sl         258098 non-null  object\n",
            " 38  mk         258098 non-null  object\n",
            " 39  fr-ca      258098 non-null  object\n",
            " 40  fi         258098 non-null  object\n",
            " 41  hy         258098 non-null  object\n",
            " 42  hi         258098 non-null  object\n",
            " 43  nb         258098 non-null  object\n",
            " 44  ka         258098 non-null  object\n",
            " 45  mn         258098 non-null  object\n",
            " 46  et         258098 non-null  object\n",
            " 47  ku         258098 non-null  object\n",
            " 48  gl         258098 non-null  object\n",
            " 49  mr         258098 non-null  object\n",
            " 50  zh         258098 non-null  object\n",
            " 51  ur         258098 non-null  object\n",
            " 52  eo         258098 non-null  object\n",
            " 53  ms         258098 non-null  object\n",
            " 54  az         258098 non-null  object\n",
            " 55  ta         258098 non-null  object\n",
            " 56  bn         258098 non-null  object\n",
            " 57  kk         258098 non-null  object\n",
            " 58  be         258098 non-null  object\n",
            " 59  eu         258098 non-null  object\n",
            " 60  bs         258098 non-null  object\n",
            "dtypes: object(61)\n",
            "memory usage: 120.1+ MB\n"
          ]
        }
      ]
    },
    {
      "cell_type": "markdown",
      "source": [
        "The null fields have been replaced with empty string"
      ],
      "metadata": {
        "id": "2F68s74Q6TQq"
      }
    },
    {
      "cell_type": "code",
      "source": [
        "langs = list(data.columns[1:])"
      ],
      "metadata": {
        "id": "F2-koC4hN9Tl"
      },
      "execution_count": 103,
      "outputs": []
    },
    {
      "cell_type": "markdown",
      "source": [
        "### Creating Vocabulary\n",
        "For this project, I will use a shared vocabulary with upto 5000 words for each language\n"
      ],
      "metadata": {
        "id": "CieS1FAV6dd6"
      }
    },
    {
      "cell_type": "code",
      "source": [
        "vocab = {}\n",
        "\n",
        "for lang in langs:\n",
        "    sentences = []\n",
        "    for i in range(len(data)):\n",
        "        sentences.extend([word.lower() for word in re.sub('&.*?;','',re.sub('\\(.*?\\)', '' , data[lang][i])).split() if word.isalpha() and word != 'NULL'])\n",
        "    words_frequencies = {}\n",
        "    for i in sentences:\n",
        "        try:\n",
        "            words_frequencies[i] += 1\n",
        "        except:\n",
        "            words_frequencies[i] = 1\n",
        "    sorted_word_frequencies = sorted(words_frequencies.items(), key=lambda x:x[1], reverse=True)\n",
        "    words = [sorted_word_frequencies[i][0] for i in range(min(5000, len(sorted_word_frequencies)))]\n",
        "\n",
        "    vocab[lang] = words"
      ],
      "metadata": {
        "id": "CstauDAgODmJ"
      },
      "execution_count": 105,
      "outputs": []
    },
    {
      "cell_type": "markdown",
      "source": [
        "To generate vocabulary, the sentences are first preprocessed. All the punctuations are removed. The audience reactions are like laughter etc. are also mentioned in these sentences enclosed in parantheses. The regular expression '\\(.*?\\)' matches these and removes. Also, some characters like apostrophe, quotes are represented like & apos; and & quot;. The regular expression '&.*?;' is used to remove them. Also, some languages do not have translations for certain sentences. These fields are filled with '__NULL__'. This has also been removed. isalpha() only keeps the letters and removes punctuations and numbers etc.\n",
        "This is done for all the sentences for each language. Then the words from each of the sentences are combined into a single set, thus retaining only unique words. Further, frequency of each word is calculated in the dataset. The top 5000 most frequent words are kept finally."
      ],
      "metadata": {
        "id": "9I_IJr3c60Pj"
      }
    },
    {
      "cell_type": "markdown",
      "source": [
        "#### Language aginst the number of words in the vocabulary"
      ],
      "metadata": {
        "id": "z0vOCv1h8gDW"
      }
    },
    {
      "cell_type": "code",
      "source": [
        "for i in vocab.keys():\n",
        "    print(i, len(vocab[i]))"
      ],
      "metadata": {
        "id": "H3naQi3qOEFQ",
        "colab": {
          "base_uri": "https://localhost:8080/"
        },
        "outputId": "a358e2b0-9239-478d-ce97-1bbb5540e64f"
      },
      "execution_count": 106,
      "outputs": [
        {
          "output_type": "stream",
          "name": "stdout",
          "text": [
            "en 5000\n",
            "es 5000\n",
            "pt-br 5000\n",
            "fr 5000\n",
            "ru 5000\n",
            "he 5000\n",
            "ar 5000\n",
            "ko 5000\n",
            "zh-cn 5000\n",
            "it 5000\n",
            "ja 5000\n",
            "zh-tw 5000\n",
            "nl 5000\n",
            "ro 5000\n",
            "tr 5000\n",
            "de 5000\n",
            "vi 5000\n",
            "pl 5000\n",
            "pt 5000\n",
            "bg 5000\n",
            "el 5000\n",
            "fa 5000\n",
            "sr 5000\n",
            "hu 5000\n",
            "hr 5000\n",
            "uk 5000\n",
            "cs 5000\n",
            "id 5000\n",
            "th 5000\n",
            "sv 5000\n",
            "sk 5000\n",
            "sq 5000\n",
            "lt 5000\n",
            "da 5000\n",
            "calv 0\n",
            "my 3561\n",
            "sl 5000\n",
            "mk 5000\n",
            "fr-ca 5000\n",
            "fi 5000\n",
            "hy 5000\n",
            "hi 1667\n",
            "nb 5000\n",
            "ka 5000\n",
            "mn 5000\n",
            "et 5000\n",
            "ku 5000\n",
            "gl 5000\n",
            "mr 1313\n",
            "zh 5000\n",
            "ur 5000\n",
            "eo 5000\n",
            "ms 5000\n",
            "az 5000\n",
            "ta 1058\n",
            "bn 1065\n",
            "kk 5000\n",
            "be 5000\n",
            "eu 5000\n",
            "bs 5000\n"
          ]
        }
      ]
    },
    {
      "cell_type": "markdown",
      "source": [
        "The language calv does not have any word in the vocabulary. Thus it is deleted from the list of languages."
      ],
      "metadata": {
        "id": "BBQcKxiv8nBR"
      }
    },
    {
      "cell_type": "code",
      "source": [
        "del vocab['calv']\n",
        "langs.remove('calv')"
      ],
      "metadata": {
        "id": "42QepF-iOGPE"
      },
      "execution_count": 107,
      "outputs": []
    },
    {
      "cell_type": "markdown",
      "source": [
        "### Creating a single dictionary for combined vocabulary."
      ],
      "metadata": {
        "id": "Uk2INqKg9Y_P"
      }
    },
    {
      "cell_type": "code",
      "source": [
        "vocabulary = {}\n",
        "vocab_size = len(langs) + 2\n",
        "for i in vocab.keys():\n",
        "    for j in vocab[i]:\n",
        "        vocabulary[j] = vocab_size\n",
        "        vocab_size += 1\n",
        "vocabulary"
      ],
      "metadata": {
        "id": "ya8zUSqIOIbY",
        "colab": {
          "base_uri": "https://localhost:8080/"
        },
        "outputId": "3129aa04-339b-49d4-b37b-adc32a2e049e"
      },
      "execution_count": null,
      "outputs": [
        {
          "output_type": "execute_result",
          "data": {
            "text/plain": [
              "{'the': 274407,\n",
              " 'and': 275683,\n",
              " 'to': 273731,\n",
              " 'of': 277261,\n",
              " 'a': 273748,\n",
              " 'that': 258553,\n",
              " 'i': 273725,\n",
              " 'in': 276148,\n",
              " 'it': 253731,\n",
              " 'you': 257193,\n",
              " 'we': 251334,\n",
              " 'is': 257557,\n",
              " 's': 273795,\n",
              " 'this': 52452,\n",
              " 'so': 228937,\n",
              " 'they': 76,\n",
              " 'was': 170414,\n",
              " 'for': 278658,\n",
              " 'are': 269560,\n",
              " 'have': 173124,\n",
              " 'but': 184211,\n",
              " 'what': 170901,\n",
              " 'on': 273821,\n",
              " 'with': 250097,\n",
              " 'can': 254113,\n",
              " 't': 257463,\n",
              " 'about': 87,\n",
              " 'there': 171086,\n",
              " 'be': 257562,\n",
              " 'as': 278410,\n",
              " 'at': 253235,\n",
              " 'not': 257356,\n",
              " 'all': 276598,\n",
              " 'my': 258331,\n",
              " 'do': 273776,\n",
              " 'one': 273838,\n",
              " 'people': 171156,\n",
              " 're': 155209,\n",
              " 'like': 200548,\n",
              " 'if': 52606,\n",
              " 'from': 172310,\n",
              " 'our': 171598,\n",
              " 'now': 171802,\n",
              " 'or': 184720,\n",
              " 'just': 253762,\n",
              " 'an': 275764,\n",
              " 'these': 107,\n",
              " 'he': 188636,\n",
              " 'when': 173298,\n",
              " 'because': 110,\n",
              " 'me': 273837,\n",
              " 'very': 112,\n",
              " 'out': 199996,\n",
              " 'by': 254641,\n",
              " 'how': 257537,\n",
              " 'them': 155197,\n",
              " 'know': 117,\n",
              " 'going': 118,\n",
              " 'more': 276547,\n",
              " 'up': 277281,\n",
              " 'had': 170645,\n",
              " 'think': 53834,\n",
              " 'who': 250972,\n",
              " 'their': 170642,\n",
              " 'were': 173310,\n",
              " 'your': 258323,\n",
              " 'see': 215292,\n",
              " 'would': 44548,\n",
              " 'which': 129,\n",
              " 'here': 173311,\n",
              " 'really': 131,\n",
              " 'get': 254239,\n",
              " 've': 278707,\n",
              " 'us': 199073,\n",
              " 'then': 82576,\n",
              " 'world': 275733,\n",
              " 'time': 274620,\n",
              " 'm': 266288,\n",
              " 'some': 139,\n",
              " 'has': 273071,\n",
              " 'don': 218612,\n",
              " 'into': 142,\n",
              " 'actually': 143,\n",
              " 'will': 84086,\n",
              " 'where': 172605,\n",
              " 'way': 146,\n",
              " 'years': 147,\n",
              " 'things': 170933,\n",
              " 'other': 149,\n",
              " 'could': 173291,\n",
              " 'want': 60161,\n",
              " 'no': 274436,\n",
              " 'been': 62390,\n",
              " 'go': 249517,\n",
              " 'make': 148147,\n",
              " 'well': 168229,\n",
              " 'she': 255692,\n",
              " 'those': 173312,\n",
              " 'right': 172611,\n",
              " 'something': 171581,\n",
              " 'first': 161,\n",
              " 'said': 215694,\n",
              " 'than': 172887,\n",
              " 'much': 164,\n",
              " 'two': 171087,\n",
              " 'also': 75100,\n",
              " 'new': 274705,\n",
              " 'look': 168,\n",
              " 'thing': 169,\n",
              " 'little': 170560,\n",
              " 'even': 60298,\n",
              " 'most': 276182,\n",
              " 'got': 172936,\n",
              " 'over': 200362,\n",
              " 'back': 175,\n",
              " 'only': 231118,\n",
              " 'work': 257560,\n",
              " 'say': 81777,\n",
              " 'his': 171663,\n",
              " 'life': 192591,\n",
              " 'many': 181,\n",
              " 'need': 215308,\n",
              " 'take': 174042,\n",
              " 'did': 184,\n",
              " 'lot': 201926,\n",
              " 'every': 173344,\n",
              " 'why': 187,\n",
              " 'kind': 75367,\n",
              " 'around': 189,\n",
              " 'good': 173566,\n",
              " 'her': 200338,\n",
              " 'let': 173699,\n",
              " 'different': 193,\n",
              " 'through': 194,\n",
              " 'll': 58903,\n",
              " 'same': 274469,\n",
              " 'down': 271207,\n",
              " 'come': 230224,\n",
              " 'being': 173423,\n",
              " 'use': 14162,\n",
              " 'doing': 257180,\n",
              " 'day': 170553,\n",
              " 'put': 273911,\n",
              " 'd': 277571,\n",
              " 'any': 205,\n",
              " 'today': 173565,\n",
              " 'three': 171088,\n",
              " 'called': 208,\n",
              " 'percent': 150360,\n",
              " 'after': 210,\n",
              " 'made': 211,\n",
              " 'tell': 212,\n",
              " 'thank': 213,\n",
              " 'human': 170971,\n",
              " 'find': 167549,\n",
              " 'didn': 216,\n",
              " 'great': 171952,\n",
              " 'change': 184339,\n",
              " 'talk': 200223,\n",
              " 'fact': 220,\n",
              " 'year': 172127,\n",
              " 'own': 222,\n",
              " 'its': 223,\n",
              " 'another': 224,\n",
              " 'before': 225,\n",
              " 'started': 226,\n",
              " 'idea': 246826,\n",
              " 'last': 215786,\n",
              " 'better': 229,\n",
              " 'never': 41718,\n",
              " 'should': 231,\n",
              " 'big': 252537,\n",
              " 'might': 233,\n",
              " 'give': 172296,\n",
              " 'thought': 235,\n",
              " 'together': 236,\n",
              " 'important': 183821,\n",
              " 'still': 172539,\n",
              " 'went': 170736,\n",
              " 'able': 240,\n",
              " 'problem': 273843,\n",
              " 'again': 242,\n",
              " 'next': 243,\n",
              " 'part': 183965,\n",
              " 'each': 245,\n",
              " 'system': 240122,\n",
              " 'him': 247,\n",
              " 'does': 248,\n",
              " 'start': 258198,\n",
              " 'off': 250,\n",
              " 'women': 216577,\n",
              " 'course': 258554,\n",
              " 'story': 253,\n",
              " 'ago': 246413,\n",
              " 'few': 255,\n",
              " 'came': 256,\n",
              " 'show': 229150,\n",
              " 'used': 258,\n",
              " 'brain': 259,\n",
              " 'technology': 199598,\n",
              " 'too': 217451,\n",
              " 'place': 184008,\n",
              " 'between': 263,\n",
              " 'bit': 275124,\n",
              " 'data': 246667,\n",
              " 'maybe': 266,\n",
              " 'water': 242180,\n",
              " 'question': 183822,\n",
              " 'mean': 269,\n",
              " 'love': 278354,\n",
              " 'found': 271,\n",
              " 'long': 254596,\n",
              " 'doesn': 273,\n",
              " 'example': 274,\n",
              " 'end': 215477,\n",
              " 'understand': 276,\n",
              " 'done': 277,\n",
              " 'looking': 278,\n",
              " 'point': 278577,\n",
              " 'live': 229938,\n",
              " 'children': 281,\n",
              " 'wanted': 282,\n",
              " 'may': 80775,\n",
              " 'always': 284,\n",
              " 'call': 199699,\n",
              " 'ever': 286,\n",
              " 'help': 62734,\n",
              " 'away': 173218,\n",
              " 'whole': 173095,\n",
              " 'trying': 290,\n",
              " 'real': 252666,\n",
              " 'school': 249329,\n",
              " 'feel': 52375,\n",
              " 'person': 200626,\n",
              " 'believe': 295,\n",
              " 'working': 139810,\n",
              " 'try': 297,\n",
              " 'everything': 298,\n",
              " 'country': 299,\n",
              " 'sort': 184966,\n",
              " 'using': 301,\n",
              " 'four': 172016,\n",
              " 'million': 200812,\n",
              " 'information': 200261,\n",
              " 'means': 305,\n",
              " 'number': 216909,\n",
              " 'thinking': 307,\n",
              " 'times': 271518,\n",
              " 'money': 309,\n",
              " 'second': 184813,\n",
              " 'create': 171810,\n",
              " 'took': 312,\n",
              " 'kids': 313,\n",
              " 'power': 257558,\n",
              " 'space': 275347,\n",
              " 'home': 262336,\n",
              " 'design': 249982,\n",
              " 'man': 225522,\n",
              " 'become': 319,\n",
              " 'enough': 320,\n",
              " 'small': 321,\n",
              " 'five': 322,\n",
              " 'without': 241465,\n",
              " 'old': 173305,\n",
              " 'future': 187515,\n",
              " 'getting': 326,\n",
              " 'best': 229267,\n",
              " 'making': 328,\n",
              " 'comes': 329,\n",
              " 'social': 225541,\n",
              " 'less': 331,\n",
              " 'city': 201096,\n",
              " 'am': 254727,\n",
              " 'quite': 334,\n",
              " 'probably': 335,\n",
              " 'sense': 336,\n",
              " 'talking': 337,\n",
              " 'body': 152262,\n",
              " 'happened': 339,\n",
              " 'lives': 171927,\n",
              " 'ask': 200266,\n",
              " 'left': 342,\n",
              " 'told': 343,\n",
              " 'energy': 200237,\n",
              " 'building': 171497,\n",
              " 'science': 204639,\n",
              " 'food': 347,\n",
              " 'countries': 348,\n",
              " 'anything': 349,\n",
              " 'pretty': 350,\n",
              " 'interesting': 351,\n",
              " 'light': 171265,\n",
              " 'imagine': 186581,\n",
              " 'such': 354,\n",
              " 'family': 355,\n",
              " 'across': 356,\n",
              " 'earth': 228177,\n",
              " 'coming': 358,\n",
              " 'while': 359,\n",
              " 'stuff': 360,\n",
              " 'build': 57659,\n",
              " 'hard': 257561,\n",
              " 'men': 251244,\n",
              " 'having': 364,\n",
              " 'dollars': 183898,\n",
              " 'moment': 183770,\n",
              " 'happen': 367,\n",
              " 'saw': 368,\n",
              " 'health': 226818,\n",
              " 'later': 203915,\n",
              " 'once': 171988,\n",
              " 'asked': 372,\n",
              " 'experience': 373,\n",
              " 'young': 172992,\n",
              " 'makes': 375,\n",
              " 'ways': 376,\n",
              " 'yet': 377,\n",
              " 'care': 65068,\n",
              " 'living': 172990,\n",
              " 'simple': 241732,\n",
              " 'almost': 381,\n",
              " 'room': 382,\n",
              " 'seen': 218190,\n",
              " 'side': 218409,\n",
              " 'else': 385,\n",
              " 'half': 258242,\n",
              " 'days': 387,\n",
              " 'play': 171403,\n",
              " 'case': 225498,\n",
              " 'nothing': 390,\n",
              " 'someone': 391,\n",
              " 'high': 203658,\n",
              " 'says': 393,\n",
              " 'often': 394,\n",
              " 'happens': 395,\n",
              " 'process': 166560,\n",
              " 'project': 232598,\n",
              " 'global': 253190,\n",
              " 'goes': 399,\n",
              " 'reason': 400,\n",
              " 'remember': 401,\n",
              " 'learn': 402,\n",
              " 'bad': 165736,\n",
              " 'already': 404,\n",
              " 'community': 405,\n",
              " 'computer': 165521,\n",
              " 'both': 407,\n",
              " 'whether': 408,\n",
              " 'move': 226858,\n",
              " 'states': 410,\n",
              " 'africa': 199692,\n",
              " 'inside': 199995,\n",
              " 'far': 200883,\n",
              " 'single': 414,\n",
              " 'problems': 77726,\n",
              " 'planet': 252194,\n",
              " 'within': 417,\n",
              " 'picture': 418,\n",
              " 'history': 419,\n",
              " 'saying': 420,\n",
              " 'sure': 170737,\n",
              " 'instead': 422,\n",
              " 'myself': 423,\n",
              " 'possible': 183869,\n",
              " 'public': 184099,\n",
              " 'keep': 426,\n",
              " 'basically': 427,\n",
              " 'looked': 428,\n",
              " 'sometimes': 429,\n",
              " 'yes': 50897,\n",
              " 'okay': 201105,\n",
              " 'matter': 171928,\n",
              " 'war': 171350,\n",
              " 'mind': 215386,\n",
              " 'set': 274537,\n",
              " 'everybody': 173222,\n",
              " 'child': 437,\n",
              " 'answer': 438,\n",
              " 'months': 439,\n",
              " 'billion': 202680,\n",
              " 'amazing': 441,\n",
              " 'car': 183827,\n",
              " 'hand': 199651,\n",
              " 'wrong': 444,\n",
              " 'hope': 445,\n",
              " 'words': 446,\n",
              " 'cells': 447,\n",
              " 'open': 260463,\n",
              " 'job': 165554,\n",
              " 'business': 172941,\n",
              " 'until': 451,\n",
              " 'wasn': 452,\n",
              " 'bring': 453,\n",
              " 'united': 258606,\n",
              " 'true': 250495,\n",
              " 'six': 184077,\n",
              " 'ideas': 225570,\n",
              " 'looks': 458,\n",
              " 'isn': 459,\n",
              " 'government': 460,\n",
              " 'since': 461,\n",
              " 'face': 218186,\n",
              " 'book': 251200,\n",
              " 'cancer': 257216,\n",
              " 'age': 188597,\n",
              " 'guy': 466,\n",
              " 'research': 199682,\n",
              " 'group': 173462,\n",
              " 'woman': 469,\n",
              " 'heard': 470,\n",
              " 'oh': 275429,\n",
              " 'read': 171892,\n",
              " 'top': 167043,\n",
              " 'under': 200475,\n",
              " 'control': 254571,\n",
              " 'nature': 243638,\n",
              " 'order': 477,\n",
              " 'everyone': 170450,\n",
              " 'beautiful': 172386,\n",
              " 'somebody': 480,\n",
              " 'stories': 481,\n",
              " 'built': 482,\n",
              " 'friends': 483,\n",
              " 'learned': 484,\n",
              " 'stop': 276722,\n",
              " 'couple': 186420,\n",
              " 'turn': 487,\n",
              " 'though': 488,\n",
              " 'places': 489,\n",
              " 'knew': 490,\n",
              " 'video': 276326,\n",
              " 'form': 200597,\n",
              " 'study': 171043,\n",
              " 'exactly': 494,\n",
              " 'ok': 274536,\n",
              " 'piece': 173559,\n",
              " 'became': 497,\n",
              " 'against': 498,\n",
              " 'taking': 499,\n",
              " 'night': 170618,\n",
              " 'works': 501,\n",
              " 'line': 204428,\n",
              " 'decided': 503,\n",
              " 'internet': 275466,\n",
              " 'society': 171035,\n",
              " 'yeah': 203305,\n",
              " 'questions': 184127,\n",
              " 'run': 171671,\n",
              " 'completely': 172924,\n",
              " 'species': 172920,\n",
              " 'music': 172258,\n",
              " 'hear': 512,\n",
              " 'middle': 173437,\n",
              " 'share': 514,\n",
              " 'themselves': 515,\n",
              " 'word': 60924,\n",
              " 'must': 218676,\n",
              " 'ourselves': 518,\n",
              " 'happening': 519,\n",
              " 'black': 244744,\n",
              " 'model': 274995,\n",
              " 'name': 176014,\n",
              " 'company': 523,\n",
              " 'america': 248362,\n",
              " 'education': 172190,\n",
              " 'gets': 526,\n",
              " 'rather': 527,\n",
              " 'turns': 528,\n",
              " 'others': 529,\n",
              " 'head': 215572,\n",
              " 'language': 531,\n",
              " 'mother': 257540,\n",
              " 'disease': 173197,\n",
              " 'kinds': 534,\n",
              " 'itself': 535,\n",
              " 'state': 170795,\n",
              " 'hours': 537,\n",
              " 'heart': 44545,\n",
              " 'ones': 539,\n",
              " 'couldn': 540,\n",
              " 'art': 202147,\n",
              " 'house': 257565,\n",
              " 'god': 273973,\n",
              " 'past': 62003,\n",
              " 'worked': 545,\n",
              " 'huge': 546,\n",
              " 'created': 547,\n",
              " 'large': 185180,\n",
              " 'animals': 549,\n",
              " 'news': 245274,\n",
              " 'thousands': 551,\n",
              " 'level': 136804,\n",
              " 'perhaps': 553,\n",
              " 'finally': 554,\n",
              " 'front': 188539,\n",
              " 'students': 556,\n",
              " 'environment': 231120,\n",
              " 'early': 558,\n",
              " 'sound': 559,\n",
              " 'along': 560,\n",
              " 'minutes': 184097,\n",
              " 'learning': 199980,\n",
              " 'systems': 77796,\n",
              " 'won': 62687,\n",
              " 'least': 171117,\n",
              " 'universe': 203922,\n",
              " 'during': 567,\n",
              " 'particular': 226398,\n",
              " 'entire': 569,\n",
              " 'ted': 274734,\n",
              " 'lots': 571,\n",
              " 'machine': 200067,\n",
              " 'gave': 201835,\n",
              " 'per': 249266,\n",
              " 'outside': 575,\n",
              " 'figure': 159788,\n",
              " 'natural': 273148,\n",
              " 'changed': 578,\n",
              " 'third': 172494,\n",
              " 'taken': 62655,\n",
              " 'cities': 581,\n",
              " 'cell': 146512,\n",
              " 'team': 201942,\n",
              " 'takes': 584,\n",
              " 'happy': 231583,\n",
              " 'air': 246746,\n",
              " 'companies': 587,\n",
              " 'difficult': 588,\n",
              " 'guys': 589,\n",
              " 'needs': 590,\n",
              " 'behind': 591,\n",
              " 'given': 167862,\n",
              " 'leave': 593,\n",
              " 'difference': 594,\n",
              " 'seeing': 595,\n",
              " 'century': 596,\n",
              " 'reality': 152327,\n",
              " 'american': 170654,\n",
              " 'india': 270521,\n",
              " 'parents': 184135,\n",
              " 'culture': 184072,\n",
              " 'close': 602,\n",
              " 'easy': 603,\n",
              " 'eyes': 604,\n",
              " 'needed': 605,\n",
              " 'yourself': 606,\n",
              " 'game': 169407,\n",
              " 'area': 229233,\n",
              " 'began': 609,\n",
              " 'population': 184030,\n",
              " 'turned': 611,\n",
              " 'york': 277259,\n",
              " 'moving': 613,\n",
              " 'political': 614,\n",
              " 'walk': 615,\n",
              " 'terms': 616,\n",
              " 'beginning': 617,\n",
              " 'humans': 618,\n",
              " 'white': 170639,\n",
              " 'media': 271925,\n",
              " 'felt': 202265,\n",
              " 'death': 171711,\n",
              " 'simply': 623,\n",
              " 'free': 171042,\n",
              " 'powerful': 625,\n",
              " 'realized': 626,\n",
              " 'image': 183926,\n",
              " 'seven': 628,\n",
              " 'whatever': 629,\n",
              " 'local': 228123,\n",
              " 'spend': 631,\n",
              " 'parts': 632,\n",
              " 'economic': 66933,\n",
              " 'cannot': 634,\n",
              " 'longer': 635,\n",
              " 'certain': 184406,\n",
              " 'china': 247738,\n",
              " 'common': 638,\n",
              " 'size': 70114,\n",
              " 'wonderful': 640,\n",
              " 'hands': 641,\n",
              " 'week': 173243,\n",
              " 'father': 170969,\n",
              " 'phone': 644,\n",
              " 'grow': 645,\n",
              " 'audience': 186580,\n",
              " 'national': 231133,\n",
              " 'view': 172835,\n",
              " 'tried': 649,\n",
              " 'quickly': 650,\n",
              " 'full': 200890,\n",
              " 'ability': 652,\n",
              " 'lost': 172000,\n",
              " 'either': 654,\n",
              " 'known': 655,\n",
              " 'spent': 203906,\n",
              " 'amount': 657,\n",
              " 'ocean': 177301,\n",
              " 'deal': 659,\n",
              " 'land': 200480,\n",
              " 'challenge': 661,\n",
              " 'market': 662,\n",
              " 'scale': 48052,\n",
              " 'gone': 664,\n",
              " 'growth': 665,\n",
              " 'wouldn': 666,\n",
              " 'changes': 667,\n",
              " 'center': 231188,\n",
              " 'weeks': 669,\n",
              " 'climate': 670,\n",
              " 'interested': 671,\n",
              " 'poor': 171698,\n",
              " 'oil': 673,\n",
              " 'girl': 172649,\n",
              " 'field': 173214,\n",
              " 'buy': 236409,\n",
              " 'friend': 171347,\n",
              " 'write': 171893,\n",
              " 'based': 679,\n",
              " 'red': 275156,\n",
              " 'opportunity': 681,\n",
              " 'born': 682,\n",
              " 'scientists': 683,\n",
              " 'sitting': 684,\n",
              " 'pay': 41719,\n",
              " 'incredible': 686,\n",
              " 'patients': 184141,\n",
              " 'step': 688,\n",
              " 'test': 274338,\n",
              " 'dna': 277580,\n",
              " 'hundreds': 691,\n",
              " 'growing': 692,\n",
              " 'cost': 67835,\n",
              " 'eight': 694,\n",
              " 'rest': 149051,\n",
              " 'surface': 184479,\n",
              " 'blue': 171622,\n",
              " 'access': 257407,\n",
              " 'shows': 699,\n",
              " 'economy': 700,\n",
              " 'physical': 701,\n",
              " 'met': 257538,\n",
              " 'green': 219798,\n",
              " 'understanding': 704,\n",
              " 'paper': 270628,\n",
              " 'feeling': 706,\n",
              " 'speak': 707,\n",
              " 'anyone': 708,\n",
              " 'morning': 173567,\n",
              " 'blood': 710,\n",
              " 'south': 199691,\n",
              " 'alone': 712,\n",
              " 'street': 278170,\n",
              " 'die': 269440,\n",
              " 'complex': 84887,\n",
              " 'program': 274631,\n",
              " 'ca': 274918,\n",
              " 'brought': 718,\n",
              " 'fear': 84879,\n",
              " 'areas': 720,\n",
              " 'average': 721,\n",
              " 'literally': 722,\n",
              " 'behavior': 199644,\n",
              " 'girls': 171038,\n",
              " 'ground': 84748,\n",
              " 'absolutely': 726,\n",
              " 'numbers': 727,\n",
              " 'value': 44911,\n",
              " 'giving': 729,\n",
              " 'telling': 730,\n",
              " 'movement': 731,\n",
              " 'millions': 183849,\n",
              " 'feet': 81579,\n",
              " 'watch': 734,\n",
              " 'kid': 172461,\n",
              " 'tools': 63274,\n",
              " 'attention': 184163,\n",
              " 'support': 19165,\n",
              " 'fish': 739,\n",
              " 'starting': 740,\n",
              " 'images': 184115,\n",
              " 'seems': 742,\n",
              " 'structure': 184386,\n",
              " 'technologies': 184183,\n",
              " 'realize': 745,\n",
              " 'developed': 746,\n",
              " 'voice': 257313,\n",
              " 'nice': 257563,\n",
              " 'individual': 228653,\n",
              " 'medical': 229681,\n",
              " 'personal': 157053,\n",
              " 'act': 258526,\n",
              " 'wrote': 753,\n",
              " 'animal': 226006,\n",
              " 'risk': 254927,\n",
              " 'books': 756,\n",
              " 'lab': 241182,\n",
              " 'knowledge': 257556,\n",
              " 'force': 184356,\n",
              " 'issue': 186776,\n",
              " 'hold': 202205,\n",
              " 'running': 762,\n",
              " 'cars': 763,\n",
              " 'recently': 764,\n",
              " 'law': 59384,\n",
              " 'development': 257458,\n",
              " 'result': 767,\n",
              " 'deep': 173149,\n",
              " 'material': 270493,\n",
              " 'miles': 225667,\n",
              " 'especially': 771,\n",
              " 'stage': 257217,\n",
              " 'eat': 171083,\n",
              " 'key': 774,\n",
              " 'industry': 775,\n",
              " 'forward': 776,\n",
              " 'digital': 247396,\n",
              " 'likely': 778,\n",
              " 'discovered': 779,\n",
              " 'nobody': 780,\n",
              " 'allow': 781,\n",
              " 'creating': 782,\n",
              " 'network': 257410,\n",
              " 'clear': 784,\n",
              " 'solve': 785,\n",
              " 'gives': 169235,\n",
              " 'asking': 787,\n",
              " 'chance': 184208,\n",
              " 'choice': 171599,\n",
              " 'special': 65483,\n",
              " 'soon': 791,\n",
              " 'map': 261293,\n",
              " 'baby': 251085,\n",
              " 'short': 794,\n",
              " 'issues': 795,\n",
              " 'sea': 171560,\n",
              " 'bottom': 173074,\n",
              " 'changing': 798,\n",
              " 'normal': 273714,\n",
              " 'europe': 184311,\n",
              " 'focus': 62903,\n",
              " 'tiny': 802,\n",
              " 'generation': 172943,\n",
              " 'rate': 78929,\n",
              " 'cut': 805,\n",
              " 'relationship': 806,\n",
              " 'theory': 807,\n",
              " 'truth': 257283,\n",
              " 'save': 160254,\n",
              " 'solution': 184169,\n",
              " 'violence': 184181,\n",
              " 'cause': 183931,\n",
              " 'sun': 172888,\n",
              " 'several': 814,\n",
              " 'film': 274799,\n",
              " 'talked': 816,\n",
              " 'meet': 171745,\n",
              " 'developing': 818,\n",
              " 'patient': 185232,\n",
              " 'groups': 820,\n",
              " 'designed': 821,\n",
              " 'seem': 822,\n",
              " 'showed': 823,\n",
              " 'online': 273409,\n",
              " 'beyond': 825,\n",
              " 'fly': 200963,\n",
              " 'type': 257472,\n",
              " 'sex': 210234,\n",
              " 'computers': 79849,\n",
              " 'impact': 185011,\n",
              " 'north': 250189,\n",
              " 'resources': 171473,\n",
              " 'trust': 172078,\n",
              " 'dead': 257358,\n",
              " 'dark': 173307,\n",
              " 'stand': 200736,\n",
              " 'produce': 226352,\n",
              " 'communities': 838,\n",
              " 'haven': 169640,\n",
              " 'university': 257578,\n",
              " 'experiment': 151066,\n",
              " 'playing': 842,\n",
              " 'color': 172848,\n",
              " 'reasons': 844,\n",
              " 'major': 178214,\n",
              " 'available': 846,\n",
              " 'innovation': 184518,\n",
              " 'stay': 848,\n",
              " 'putting': 849,\n",
              " 'fun': 225918,\n",
              " 'please': 173290,\n",
              " 'situation': 184116,\n",
              " 'rights': 853,\n",
              " 'fast': 201298,\n",
              " 'anybody': 855,\n",
              " 'robot': 252264,\n",
              " 'begin': 60400,\n",
              " 'drugs': 62021,\n",
              " 'guess': 859,\n",
              " 'incredibly': 860,\n",
              " 'ice': 173414,\n",
              " 'towards': 862,\n",
              " 'send': 863,\n",
              " 'approach': 864,\n",
              " 'cool': 185714,\n",
              " 'perfect': 65902,\n",
              " 'similar': 226962,\n",
              " 'becomes': 868,\n",
              " 'bigger': 869,\n",
              " 'pictures': 173514,\n",
              " 'lived': 871,\n",
              " 'basic': 872,\n",
              " 'product': 172126,\n",
              " 'obviously': 874,\n",
              " 'effect': 60988,\n",
              " 'knows': 876,\n",
              " 'wall': 274400,\n",
              " 'teach': 170804,\n",
              " 'drive': 201679,\n",
              " 'drug': 200276,\n",
              " 'security': 246320,\n",
              " 'aren': 882,\n",
              " 'sounds': 883,\n",
              " 'involved': 884,\n",
              " 'box': 257499,\n",
              " 'evidence': 886,\n",
              " 'shape': 887,\n",
              " 'google': 274546,\n",
              " 'international': 250219,\n",
              " 'died': 890,\n",
              " 'eventually': 891,\n",
              " 'revolution': 166159,\n",
              " 'certainly': 893,\n",
              " 'message': 184360,\n",
              " 'solar': 254170,\n",
              " 'modern': 171709,\n",
              " 'hit': 201199,\n",
              " 'office': 172259,\n",
              " 'explain': 899,\n",
              " 'particularly': 900,\n",
              " 'rules': 901,\n",
              " 'pick': 902,\n",
              " 'english': 172074,\n",
              " 'indeed': 904,\n",
              " 'general': 178125,\n",
              " 'action': 184412,\n",
              " 'code': 184685,\n",
              " 'reach': 908,\n",
              " 'potential': 146332,\n",
              " 'journey': 910,\n",
              " 'dream': 200076,\n",
              " 'ready': 912,\n",
              " 'listen': 201635,\n",
              " 'eye': 914,\n",
              " 'led': 269682,\n",
              " 'present': 171664,\n",
              " 'writing': 917,\n",
              " 'device': 918,\n",
              " 'families': 61471,\n",
              " 'evolution': 167062,\n",
              " 'carbon': 81667,\n",
              " 'worth': 922,\n",
              " 'scientific': 923,\n",
              " 'boy': 171496,\n",
              " 'hospital': 247202,\n",
              " 'showing': 926,\n",
              " 'jobs': 204972,\n",
              " 'software': 271110,\n",
              " 'crazy': 929,\n",
              " 'success': 930,\n",
              " 'examples': 931,\n",
              " 'movie': 932,\n",
              " 'plants': 933,\n",
              " 'strong': 934,\n",
              " 'schools': 935,\n",
              " 'choose': 936,\n",
              " 'role': 132665,\n",
              " 'medicine': 175475,\n",
              " 'walking': 172727,\n",
              " 'college': 201953,\n",
              " 'starts': 941,\n",
              " 'among': 942,\n",
              " 'moved': 943,\n",
              " 'lead': 944,\n",
              " 'break': 945,\n",
              " 'hundred': 946,\n",
              " 'camera': 173605,\n",
              " 'nuclear': 226657,\n",
              " 'sit': 165459,\n",
              " 'leaders': 186366,\n",
              " 'wants': 951,\n",
              " 'nine': 952,\n",
              " 'conversation': 184828,\n",
              " 'class': 231388,\n",
              " 'wait': 955,\n",
              " 'notice': 956,\n",
              " 'develop': 957,\n",
              " 'safe': 958,\n",
              " 'continue': 184431,\n",
              " 'democracy': 960,\n",
              " 'totally': 961,\n",
              " 'police': 184539,\n",
              " 'plant': 61722,\n",
              " 'favorite': 964,\n",
              " 'higher': 965,\n",
              " 'biggest': 966,\n",
              " 'web': 274666,\n",
              " 'add': 968,\n",
              " 'doctor': 66782,\n",
              " 'vision': 184174,\n",
              " 'further': 971,\n",
              " 'onto': 972,\n",
              " 'response': 973,\n",
              " 'measure': 974,\n",
              " 'individuals': 975,\n",
              " 'poverty': 976,\n",
              " 'everywhere': 228561,\n",
              " 'robots': 184880,\n",
              " 'period': 278385,\n",
              " 'suddenly': 980,\n",
              " 'intelligence': 199659,\n",
              " 'mars': 253603,\n",
              " 'memory': 139662,\n",
              " 'organization': 249985,\n",
              " 'fight': 985,\n",
              " 'largest': 986,\n",
              " 'creative': 170850,\n",
              " 'month': 988,\n",
              " 'goal': 989,\n",
              " 'anyway': 990,\n",
              " 'student': 277382,\n",
              " 'grew': 992,\n",
              " 'exciting': 993,\n",
              " 'results': 231117,\n",
              " 'worse': 995,\n",
              " 'usually': 996,\n",
              " 'essentially': 997,\n",
              " 'quality': 998,\n",
              " 'table': 244093,\n",
              " 'shown': 1000,\n",
              " 'trees': 1001,\n",
              " 'allowed': 1002,\n",
              " 'watching': 1003,\n",
              " 'machines': 184436,\n",
              " 'plan': 276008,\n",
              " 'named': 1006,\n",
              " 'extraordinary': 1007,\n",
              " 'wife': 1008,\n",
              " 'supposed': 1009,\n",
              " 'west': 232335,\n",
              " 'faster': 1011,\n",
              " 'meant': 1012,\n",
              " 'low': 1013,\n",
              " 'finding': 1014,\n",
              " 'road': 1015,\n",
              " 'including': 1016,\n",
              " 'extremely': 1017,\n",
              " 'chinese': 173466,\n",
              " 'connected': 1019,\n",
              " 'objects': 1020,\n",
              " 'mass': 219589,\n",
              " 'projects': 170865,\n",
              " 'mom': 274538,\n",
              " 'son': 251711,\n",
              " 'tree': 249701,\n",
              " 'materials': 1026,\n",
              " 'east': 187422,\n",
              " 'standing': 199997,\n",
              " 'door': 60098,\n",
              " 'perspective': 184984,\n",
              " 'buildings': 1031,\n",
              " 'fall': 201448,\n",
              " 'protect': 1033,\n",
              " 'mine': 275794,\n",
              " 'tells': 1035,\n",
              " 'crisis': 171141,\n",
              " 'older': 1037,\n",
              " 'however': 1038,\n",
              " 'object': 258556,\n",
              " 'games': 83612,\n",
              " 'somewhere': 1041,\n",
              " 'positive': 202694,\n",
              " 'hour': 1043,\n",
              " 'excited': 1044,\n",
              " 'sent': 201559,\n",
              " 'skin': 1046,\n",
              " 'meaning': 1047,\n",
              " 'models': 1048,\n",
              " 'smart': 201973,\n",
              " 'teachers': 1050,\n",
              " 'treatment': 1051,\n",
              " 'killed': 1052,\n",
              " 'freedom': 171798,\n",
              " 'taught': 1054,\n",
              " 'spread': 1055,\n",
              " 'follow': 1056,\n",
              " 'somehow': 1057,\n",
              " 'consider': 67237,\n",
              " 'truly': 1059,\n",
              " 'service': 185128,\n",
              " ...}"
            ]
          },
          "metadata": {},
          "execution_count": 11
        }
      ]
    },
    {
      "cell_type": "markdown",
      "source": [
        "### Appending the language tokens and end of sentence token to the vocabulary"
      ],
      "metadata": {
        "id": "2AMN0Vc49pUU"
      }
    },
    {
      "cell_type": "code",
      "source": [
        "for i in range(len(langs)):\n",
        "    vocabulary[f'<{langs[i]}>'] = i + 2\n",
        "vocabulary['<EOS>'] = 1"
      ],
      "metadata": {
        "id": "LJqEL2sdYnTD"
      },
      "execution_count": null,
      "outputs": []
    },
    {
      "cell_type": "code",
      "source": [
        "vocab_size"
      ],
      "metadata": {
        "colab": {
          "base_uri": "https://localhost:8080/"
        },
        "id": "6hIHC1GaYqrU",
        "outputId": "1c06e273-13e3-47f0-8c29-d304024dc7e7"
      },
      "execution_count": null,
      "outputs": [
        {
          "output_type": "execute_result",
          "data": {
            "text/plain": [
              "278725"
            ]
          },
          "metadata": {},
          "execution_count": 13
        }
      ]
    },
    {
      "cell_type": "markdown",
      "source": [
        "### Function that converts a list of words to a vector of labels for each word, using the shared vocabulary"
      ],
      "metadata": {
        "id": "qMseBxxz9yuD"
      }
    },
    {
      "cell_type": "code",
      "source": [
        "def sentence_to_vector(sentence):\n",
        "\n",
        "    result = np.zeros((100))\n",
        "    for i in range(len(sentence)):\n",
        "        try:\n",
        "            index = vocabulary[sentence[i]]\n",
        "            result[i] = index\n",
        "        except:\n",
        "            result[i] = 0\n",
        "    return result"
      ],
      "metadata": {
        "id": "JfI0qfNbYxld"
      },
      "execution_count": 7,
      "outputs": []
    },
    {
      "cell_type": "code",
      "source": [
        "sentence_to_vector(['my','name','is','areeb'])[:6]"
      ],
      "metadata": {
        "colab": {
          "base_uri": "https://localhost:8080/"
        },
        "id": "qhSNXjMbY0oI",
        "outputId": "95719665-a364-49fc-ced7-a7f76a90070e"
      },
      "execution_count": null,
      "outputs": [
        {
          "output_type": "execute_result",
          "data": {
            "text/plain": [
              "array([258331., 176014., 257557.,      0.,      0.,      0.])"
            ]
          },
          "metadata": {},
          "execution_count": 15
        }
      ]
    },
    {
      "cell_type": "markdown",
      "source": [
        "The first three words are contained in the vocabulary. Thus, they have been assigned a label each. For the unidentified word, a label of 0 is assigned."
      ],
      "metadata": {
        "id": "tZVffCcZ9-W3"
      }
    },
    {
      "cell_type": "markdown",
      "source": [
        "### Function to process a statement and convert to a list of words\n",
        "The only difference in the processing of text from the processing of sentences to make vocabulary is that numbers are retained here. They will be assigned unidentified token."
      ],
      "metadata": {
        "id": "zp3B9r1r-M7P"
      }
    },
    {
      "cell_type": "code",
      "source": [
        "def prepare_sentence(sentence):\n",
        "\n",
        "    words = [word.lower() for word in re.sub('&.*?;','',re.sub('\\(.*?\\)', '' , sentence)).split() if word.isalnum() and word != 'NULL']\n",
        "\n",
        "    return words"
      ],
      "metadata": {
        "id": "3WKCRsBgOVpE"
      },
      "execution_count": 8,
      "outputs": []
    },
    {
      "cell_type": "markdown",
      "source": [
        "### Function to convert a list of words to output vector with an additional shape, thus matching the shape of the output of the model."
      ],
      "metadata": {
        "id": "wWEy7LTU-jAv"
      }
    },
    {
      "cell_type": "code",
      "source": [
        "def sentence_to_output_vector(sentence):\n",
        "\n",
        "    result = np.zeros((100, 1))\n",
        "    for i in range(len(sentence)):\n",
        "        try:\n",
        "            index = vocabulary[sentence[i]]\n",
        "            result[i][0] = index\n",
        "        except:\n",
        "            result[i][0] = 0\n",
        "    return result"
      ],
      "metadata": {
        "id": "tOJ0CUz0Y-3U"
      },
      "execution_count": 9,
      "outputs": []
    },
    {
      "cell_type": "markdown",
      "source": [
        "### Preparing the training data\n",
        "A pair of languages is randomly selected from the dataset and processed before being appended to the training dataset. All sentences are converted to vectors of length 100 (the maximum length of sentence allowed by the model). End of sentence token is appended to the lists of input and output sentences. In the input sentence, a token determining target language is also appended."
      ],
      "metadata": {
        "id": "n5eNtAp6-wqS"
      }
    },
    {
      "cell_type": "code",
      "source": [
        "train_input = []\n",
        "train_output = []\n",
        "for i in range(len(data) // 3):\n",
        "    valid_langs = []\n",
        "    for j in langs:\n",
        "        if len(prepare_sentence(data[j][i])) > 0:\n",
        "            valid_langs.append(j)\n",
        "    if len(valid_langs) > 1:\n",
        "        choices = random.sample(valid_langs, k = 2)\n",
        "        input_sentence = prepare_sentence(data[choices[0]][i])\n",
        "        output_sentence = prepare_sentence(data[choices[1]][i])\n",
        "        if len(input_sentence) > 98:\n",
        "          continue\n",
        "        if len(output_sentence) > 99:\n",
        "          continue\n",
        "        input_sentence.insert(0, f'<{choices[1]}>')\n",
        "        input_sentence.append('<EOS>')\n",
        "        train_vector = sentence_to_vector(input_sentence)\n",
        "        train_input.append(train_vector)\n",
        "        output_sentence.append('<EOS>')\n",
        "        train_output.append(sentence_to_output_vector(output_sentence))\n",
        "train_input = np.array(train_input)\n",
        "train_output = np.array(train_output)"
      ],
      "metadata": {
        "id": "lc9G9RKTOXn_"
      },
      "execution_count": null,
      "outputs": []
    },
    {
      "cell_type": "markdown",
      "source": [
        "### Importing TensorFlow and required layers for model training"
      ],
      "metadata": {
        "id": "4RUspMUdAHrY"
      }
    },
    {
      "cell_type": "code",
      "source": [
        "import tensorflow as tf\n",
        "from tensorflow.keras.layers import LSTM,Concatenate,Input, Bidirectional, Embedding, MultiHeadAttention, Dense\n",
        "from tensorflow.keras.models import Model\n",
        "import matplotlib.pyplot as plt"
      ],
      "metadata": {
        "id": "hAmPge1aOZqS"
      },
      "execution_count": 2,
      "outputs": []
    },
    {
      "cell_type": "markdown",
      "source": [
        "### Creating the Model"
      ],
      "metadata": {
        "id": "Gb_291gcAQMZ"
      }
    },
    {
      "cell_type": "code",
      "source": [
        "input = Input(shape=(100,))\n",
        "embedding = Embedding(vocab_size, 200) (input)\n",
        "encoder_lstm1 = Bidirectional(LSTM(128, return_sequences=True)) (embedding)\n",
        "encoder_lstm2 = LSTM(80, return_sequences=True) (encoder_lstm1)\n",
        "encoder_lstm3 = LSTM(60, return_sequences=True) (encoder_lstm2)\n",
        "encoder_conc1 = Concatenate() ([encoder_lstm2,encoder_lstm3])\n",
        "encoder_lstm4 = LSTM(54, return_sequences=True) (encoder_conc1)\n",
        "encoder_conc2 = Concatenate() ([encoder_conc1,encoder_lstm4])\n",
        "encoder_lstm5 = LSTM(40, return_sequences=True) (encoder_conc2)\n",
        "encoder_conc3 = Concatenate() ([encoder_conc2,encoder_lstm5])\n",
        "encoder_lstm6 = LSTM(32, return_sequences=True) (encoder_conc3)\n",
        "encoder_conc4 = Concatenate() ([encoder_conc3,encoder_lstm6])\n",
        "encoder_lstm7 = LSTM(24, return_sequences=True) (encoder_conc4)\n",
        "encoder_conc5 = Concatenate() ([encoder_conc4,encoder_lstm7])\n",
        "encoder_lstm8 = LSTM(16, return_sequences=True) (encoder_conc5)\n",
        "attention = MultiHeadAttention(num_heads=10,key_dim=12) (encoder_lstm8,encoder_lstm8)\n",
        "decoder_lstm1 = LSTM(16, return_sequences=True) (attention)\n",
        "decoder_lstm2 = LSTM(24, return_sequences=True) (decoder_lstm1)\n",
        "decoder_lstm3 = LSTM(32, return_sequences=True) (decoder_lstm2)\n",
        "decoder_conc1 = Concatenate() ([decoder_lstm2,decoder_lstm3])\n",
        "decoder_lstm4 = LSTM(40, return_sequences=True) (decoder_conc1)\n",
        "decoder_conc2 = Concatenate() ([decoder_conc1,decoder_lstm4])\n",
        "decoder_lstm5 = LSTM(54, return_sequences=True) (decoder_conc2)\n",
        "decoder_conc3 = Concatenate() ([decoder_conc2,decoder_lstm5])\n",
        "decoder_lstm6 = LSTM(60, return_sequences=True) (decoder_conc3)\n",
        "decoder_conc4 = Concatenate() ([decoder_conc3,decoder_lstm6])\n",
        "decoder_lstm7 = LSTM(80, return_sequences=True) (decoder_conc4)\n",
        "decoder_conc5 = Concatenate() ([decoder_conc4,decoder_lstm7])\n",
        "decoder_lstm8 = LSTM(128, return_sequences=True) (decoder_conc5)\n",
        "dense = Dense(1, activation=\"relu\") (decoder_lstm8)\n",
        "model = tf.keras.models.Model(input, dense)\n",
        "model.summary()"
      ],
      "metadata": {
        "colab": {
          "base_uri": "https://localhost:8080/"
        },
        "id": "ZbOagmtaZGFY",
        "outputId": "9c92596b-aeb2-4356-bc23-8a9e70d6ba8e"
      },
      "execution_count": null,
      "outputs": [
        {
          "output_type": "stream",
          "name": "stdout",
          "text": [
            "Model: \"model_1\"\n",
            "__________________________________________________________________________________________________\n",
            " Layer (type)                Output Shape                 Param #   Connected to                  \n",
            "==================================================================================================\n",
            " input_2 (InputLayer)        [(None, 100)]                0         []                            \n",
            "                                                                                                  \n",
            " embedding_1 (Embedding)     (None, 100, 200)             5574500   ['input_2[0][0]']             \n",
            "                                                          0                                       \n",
            "                                                                                                  \n",
            " bidirectional_1 (Bidirecti  (None, 100, 256)             336896    ['embedding_1[0][0]']         \n",
            " onal)                                                                                            \n",
            "                                                                                                  \n",
            " lstm_17 (LSTM)              (None, 100, 80)              107840    ['bidirectional_1[0][0]']     \n",
            "                                                                                                  \n",
            " lstm_18 (LSTM)              (None, 100, 60)              33840     ['lstm_17[0][0]']             \n",
            "                                                                                                  \n",
            " concatenate_10 (Concatenat  (None, 100, 140)             0         ['lstm_17[0][0]',             \n",
            " e)                                                                  'lstm_18[0][0]']             \n",
            "                                                                                                  \n",
            " lstm_19 (LSTM)              (None, 100, 54)              42120     ['concatenate_10[0][0]']      \n",
            "                                                                                                  \n",
            " concatenate_11 (Concatenat  (None, 100, 194)             0         ['concatenate_10[0][0]',      \n",
            " e)                                                                  'lstm_19[0][0]']             \n",
            "                                                                                                  \n",
            " lstm_20 (LSTM)              (None, 100, 40)              37600     ['concatenate_11[0][0]']      \n",
            "                                                                                                  \n",
            " concatenate_12 (Concatenat  (None, 100, 234)             0         ['concatenate_11[0][0]',      \n",
            " e)                                                                  'lstm_20[0][0]']             \n",
            "                                                                                                  \n",
            " lstm_21 (LSTM)              (None, 100, 32)              34176     ['concatenate_12[0][0]']      \n",
            "                                                                                                  \n",
            " concatenate_13 (Concatenat  (None, 100, 266)             0         ['concatenate_12[0][0]',      \n",
            " e)                                                                  'lstm_21[0][0]']             \n",
            "                                                                                                  \n",
            " lstm_22 (LSTM)              (None, 100, 24)              27936     ['concatenate_13[0][0]']      \n",
            "                                                                                                  \n",
            " concatenate_14 (Concatenat  (None, 100, 290)             0         ['concatenate_13[0][0]',      \n",
            " e)                                                                  'lstm_22[0][0]']             \n",
            "                                                                                                  \n",
            " lstm_23 (LSTM)              (None, 100, 16)              19648     ['concatenate_14[0][0]']      \n",
            "                                                                                                  \n",
            " multi_head_attention_1 (Mu  (None, 100, 16)              8056      ['lstm_23[0][0]',             \n",
            " ltiHeadAttention)                                                   'lstm_23[0][0]']             \n",
            "                                                                                                  \n",
            " lstm_24 (LSTM)              (None, 100, 16)              2112      ['multi_head_attention_1[0][0]\n",
            "                                                                    ']                            \n",
            "                                                                                                  \n",
            " lstm_25 (LSTM)              (None, 100, 24)              3936      ['lstm_24[0][0]']             \n",
            "                                                                                                  \n",
            " lstm_26 (LSTM)              (None, 100, 32)              7296      ['lstm_25[0][0]']             \n",
            "                                                                                                  \n",
            " concatenate_15 (Concatenat  (None, 100, 56)              0         ['lstm_25[0][0]',             \n",
            " e)                                                                  'lstm_26[0][0]']             \n",
            "                                                                                                  \n",
            " lstm_27 (LSTM)              (None, 100, 40)              15520     ['concatenate_15[0][0]']      \n",
            "                                                                                                  \n",
            " concatenate_16 (Concatenat  (None, 100, 96)              0         ['concatenate_15[0][0]',      \n",
            " e)                                                                  'lstm_27[0][0]']             \n",
            "                                                                                                  \n",
            " lstm_28 (LSTM)              (None, 100, 54)              32616     ['concatenate_16[0][0]']      \n",
            "                                                                                                  \n",
            " concatenate_17 (Concatenat  (None, 100, 150)             0         ['concatenate_16[0][0]',      \n",
            " e)                                                                  'lstm_28[0][0]']             \n",
            "                                                                                                  \n",
            " lstm_29 (LSTM)              (None, 100, 60)              50640     ['concatenate_17[0][0]']      \n",
            "                                                                                                  \n",
            " concatenate_18 (Concatenat  (None, 100, 210)             0         ['concatenate_17[0][0]',      \n",
            " e)                                                                  'lstm_29[0][0]']             \n",
            "                                                                                                  \n",
            " lstm_30 (LSTM)              (None, 100, 80)              93120     ['concatenate_18[0][0]']      \n",
            "                                                                                                  \n",
            " concatenate_19 (Concatenat  (None, 100, 290)             0         ['concatenate_18[0][0]',      \n",
            " e)                                                                  'lstm_30[0][0]']             \n",
            "                                                                                                  \n",
            " lstm_31 (LSTM)              (None, 100, 128)             214528    ['concatenate_19[0][0]']      \n",
            "                                                                                                  \n",
            " dense_1 (Dense)             (None, 100, 1)               129       ['lstm_31[0][0]']             \n",
            "                                                                                                  \n",
            "==================================================================================================\n",
            "Total params: 56813009 (216.72 MB)\n",
            "Trainable params: 56813009 (216.72 MB)\n",
            "Non-trainable params: 0 (0.00 Byte)\n",
            "__________________________________________________________________________________________________\n"
          ]
        }
      ]
    },
    {
      "cell_type": "markdown",
      "source": [
        "### A plot of the Model Architecture"
      ],
      "metadata": {
        "id": "8C9Lsof1AVs4"
      }
    },
    {
      "cell_type": "code",
      "source": [
        "tf.keras.utils.plot_model(model,show_shapes=True,show_layer_names=False)"
      ],
      "metadata": {
        "colab": {
          "base_uri": "https://localhost:8080/",
          "height": 1000
        },
        "id": "hwaKqI39ZI4L",
        "outputId": "e0a739d2-6458-4251-c0d8-2788158acc70"
      },
      "execution_count": null,
      "outputs": [
        {
          "output_type": "execute_result",
          "data": {
            "image/png": "[encoded data removed]",
            "text/plain": [
              "<IPython.core.display.Image object>"
            ]
          },
          "metadata": {},
          "execution_count": 50
        }
      ]
    },
    {
      "cell_type": "markdown",
      "source": [
        "### A custom loss function for training (effectively mean absolute error)"
      ],
      "metadata": {
        "id": "S3NcUHaTAdyw"
      }
    },
    {
      "cell_type": "code",
      "source": [
        "def custom_loss(y_true, y_pred):\n",
        "    return tf.math.reduce_mean(tf.math.abs(tf.math.subtract(y_true, y_pred)))"
      ],
      "metadata": {
        "id": "xtUYNkO5n5XF"
      },
      "execution_count": 10,
      "outputs": []
    },
    {
      "cell_type": "markdown",
      "source": [
        "### Compiling and training the model"
      ],
      "metadata": {
        "id": "Avc9QMxsAv3R"
      }
    },
    {
      "cell_type": "code",
      "source": [
        "model.compile(optimizer=tf.keras.optimizers.Adam(200),loss=custom_loss,metrics=[custom_loss])\n",
        "history = model.fit(train_input, train_output, epochs=10)"
      ],
      "metadata": {
        "colab": {
          "base_uri": "https://localhost:8080/"
        },
        "id": "2yiCGYVWZMk6",
        "outputId": "521bca35-4119-4e09-af7d-00f8859656bf"
      },
      "execution_count": null,
      "outputs": [
        {
          "output_type": "stream",
          "name": "stdout",
          "text": [
            "Epoch 1/10\n",
            "2508/2508 [==============================] - 289s 102ms/step - loss: 17576.6328 - custom_loss: 17583.5430\n",
            "Epoch 2/10\n",
            "2508/2508 [==============================] - 232s 92ms/step - loss: 17576.6074 - custom_loss: 17574.6562\n",
            "Epoch 3/10\n",
            "2508/2508 [==============================] - 232s 92ms/step - loss: 17576.6230 - custom_loss: 17575.7637\n",
            "Epoch 4/10\n",
            "2508/2508 [==============================] - 233s 93ms/step - loss: 17576.6211 - custom_loss: 17576.0039\n",
            "Epoch 5/10\n",
            "2508/2508 [==============================] - 230s 92ms/step - loss: 17576.6035 - custom_loss: 17573.5176\n",
            "Epoch 6/10\n",
            "2508/2508 [==============================] - 236s 94ms/step - loss: 17576.6465 - custom_loss: 17579.9492\n",
            "Epoch 7/10\n",
            "2508/2508 [==============================] - 231s 92ms/step - loss: 17576.6289 - custom_loss: 17582.1465\n",
            "Epoch 8/10\n",
            "2508/2508 [==============================] - 229s 91ms/step - loss: 17576.6348 - custom_loss: 17583.4082\n",
            "Epoch 9/10\n",
            "2508/2508 [==============================] - 231s 92ms/step - loss: 17576.6328 - custom_loss: 17574.4043\n",
            "Epoch 10/10\n",
            "2508/2508 [==============================] - 229s 91ms/step - loss: 17576.6387 - custom_loss: 17572.4609\n"
          ]
        }
      ]
    },
    {
      "cell_type": "markdown",
      "source": [
        "### Plot of Loss vs. epoch\n",
        "Final loss is 17572 in a vocabulary size of over 250000. The error has been minimised but perhapse some more sophisticated loss function, more data, longer training, and a custom training algorithm is required for better training of the model, which is beyond the scope of this project due to hardware and time constraints."
      ],
      "metadata": {
        "id": "0VBEE_CuA2xu"
      }
    },
    {
      "cell_type": "code",
      "source": [
        "plt.title(\"Loss vs. Epochs\")\n",
        "plt.xlabel(\"Epochs\")\n",
        "plt.ylabel(\"Loss\")\n",
        "plt.plot([i + 1 for i in range(10)], history.history['loss'])"
      ],
      "metadata": {
        "id": "Lv2kwaPxZ2Sr",
        "colab": {
          "base_uri": "https://localhost:8080/",
          "height": 489
        },
        "outputId": "f6bfaa8a-797b-46e4-8ee1-db37bb548e9a"
      },
      "execution_count": null,
      "outputs": [
        {
          "output_type": "execute_result",
          "data": {
            "text/plain": [
              "[<matplotlib.lines.Line2D at 0x7a5339f08730>]"
            ]
          },
          "metadata": {},
          "execution_count": 74
        },
        {
          "output_type": "display_data",
          "data": {
            "text/plain": [
              "<Figure size 640x480 with 1 Axes>"
            ],
            "image/png": "[encoded data removed]"
          },
          "metadata": {}
        }
      ]
    },
    {
      "cell_type": "markdown",
      "source": [
        "### Function to prepare input sentence for model"
      ],
      "metadata": {
        "id": "uL4gY7BpBeZm"
      }
    },
    {
      "cell_type": "code",
      "source": [
        "def prepare_input(sentence, target_lang):\n",
        "    input_sentence = prepare_sentence(sentence)\n",
        "    input_sentence.insert(0, f'<{target_lang}>')\n",
        "    input_sentence.append('<EOS>')\n",
        "    input_vector = sentence_to_vector(input_sentence)\n",
        "    return np.array([input_vector])"
      ],
      "metadata": {
        "id": "8DIWZyQklikY"
      },
      "execution_count": 11,
      "outputs": []
    },
    {
      "cell_type": "markdown",
      "source": [
        "### An inverse vocabulary to generate the output sentnce from model output"
      ],
      "metadata": {
        "id": "uTswZnCjBorz"
      }
    },
    {
      "cell_type": "code",
      "source": [
        "inverse_vocabulary = {}\n",
        "for i in vocabulary.keys():\n",
        "    inverse_vocabulary[vocabulary[i]] = i"
      ],
      "metadata": {
        "id": "B4WxX4v8sG3i"
      },
      "execution_count": null,
      "outputs": []
    },
    {
      "cell_type": "markdown",
      "source": [
        "### Function to prepare output sentence using inverse vocabulary"
      ],
      "metadata": {
        "id": "ZoKwiEa-BuzJ"
      }
    },
    {
      "cell_type": "code",
      "source": [
        "def prepare_output(output):\n",
        "    sentence = \"\"\n",
        "    for i in output[0]:\n",
        "        if i[0] == 0:\n",
        "          continue\n",
        "        try:\n",
        "          word = inverse_vocabulary[int(i[0])]\n",
        "        except:\n",
        "          continue\n",
        "        if word == '<EOS>':\n",
        "            break\n",
        "        sentence += word + \" \"\n",
        "    return sentence.strip()"
      ],
      "metadata": {
        "id": "N63uOiu0m9zq"
      },
      "execution_count": 45,
      "outputs": []
    },
    {
      "cell_type": "markdown",
      "source": [
        "### Evaluating the model"
      ],
      "metadata": {
        "id": "pRr7XUUjB2fH"
      }
    },
    {
      "cell_type": "code",
      "source": [
        "prepare_output(model.predict(prepare_input(\"Hello, how are you? I have been looking forward to meeting you.\", \"fr\")))"
      ],
      "metadata": {
        "colab": {
          "base_uri": "https://localhost:8080/",
          "height": 53
        },
        "id": "vOPoDlfclgD6",
        "outputId": "b2c5766d-1a98-44e9-f388-60e2efa8aeca"
      },
      "execution_count": null,
      "outputs": [
        {
          "output_type": "stream",
          "name": "stdout",
          "text": [
            "1/1 [==============================] - 8s 8s/step\n"
          ]
        },
        {
          "output_type": "execute_result",
          "data": {
            "text/plain": [
              "''"
            ],
            "application/vnd.google.colaboratory.intrinsic+json": {
              "type": "string"
            }
          },
          "metadata": {},
          "execution_count": 78
        }
      ]
    },
    {
      "cell_type": "markdown",
      "source": [
        "Since the model has ReLU activation, the indices will certainly be positive. Empty output string means that the model has predicted unknown for all output places. Such a poor performance could be expected, given the fact that model was very lightly trained, whereas a model with such a complex architecture should be traind for a much longer duration upto weeks, on more powerful hardware. We will try some postprecessing to improve the performance later."
      ],
      "metadata": {
        "id": "_IsmKwA4B6v9"
      }
    },
    {
      "cell_type": "markdown",
      "source": [
        "### Saving the vocabulary and inverse vocabulary"
      ],
      "metadata": {
        "id": "PuiP6dRZCyFu"
      }
    },
    {
      "cell_type": "code",
      "source": [
        "import pickle\n",
        "\n",
        "with open('vocabulary.pickle', 'wb') as vocab_file:\n",
        "    pickle.dump(vocabulary, vocab_file)\n",
        "\n",
        "with open('inverse.pickle', 'wb') as inverse_file:\n",
        "    pickle.dump(inverse_vocabulary, inverse_file)"
      ],
      "metadata": {
        "id": "3dYbespe1Yq3"
      },
      "execution_count": null,
      "outputs": []
    },
    {
      "cell_type": "markdown",
      "source": [
        "### Saving the model"
      ],
      "metadata": {
        "id": "wqHHEDgwC4PE"
      }
    },
    {
      "cell_type": "code",
      "source": [
        "model.save('translator.h5')"
      ],
      "metadata": {
        "id": "RGh82uGs4Zia"
      },
      "execution_count": null,
      "outputs": []
    },
    {
      "cell_type": "markdown",
      "source": [
        "### Downloading the saved files to local computer"
      ],
      "metadata": {
        "id": "QuWQXOmiC7Hf"
      }
    },
    {
      "cell_type": "code",
      "source": [
        "from google.colab import files\n",
        "files.download(\"vocabulary.pickle\")\n",
        "files.download(\"inverse.pickle\")\n",
        "files.download(\"translator.h5\")"
      ],
      "metadata": {
        "colab": {
          "base_uri": "https://localhost:8080/",
          "height": 17
        },
        "id": "r5LlVBxa5XAr",
        "outputId": "c3f40f78-628f-4e99-e120-112f16984e19"
      },
      "execution_count": null,
      "outputs": [
        {
          "output_type": "display_data",
          "data": {
            "text/plain": [
              "<IPython.core.display.Javascript object>"
            ],
            "application/javascript": [
              "\n",
              "    async function download(id, filename, size) {\n",
              "      if (!google.colab.kernel.accessAllowed) {\n",
              "        return;\n",
              "      }\n",
              "      const div = document.createElement('div');\n",
              "      const label = document.createElement('label');\n",
              "      label.textContent = `Downloading \"${filename}\": `;\n",
              "      div.appendChild(label);\n",
              "      const progress = document.createElement('progress');\n",
              "      progress.max = size;\n",
              "      div.appendChild(progress);\n",
              "      document.body.appendChild(div);\n",
              "\n",
              "      const buffers = [];\n",
              "      let downloaded = 0;\n",
              "\n",
              "      const channel = await google.colab.kernel.comms.open(id);\n",
              "      // Send a message to notify the kernel that we're ready.\n",
              "      channel.send({})\n",
              "\n",
              "      for await (const message of channel.messages) {\n",
              "        // Send a message to notify the kernel that we're ready.\n",
              "        channel.send({})\n",
              "        if (message.buffers) {\n",
              "          for (const buffer of message.buffers) {\n",
              "            buffers.push(buffer);\n",
              "            downloaded += buffer.byteLength;\n",
              "            progress.value = downloaded;\n",
              "          }\n",
              "        }\n",
              "      }\n",
              "      const blob = new Blob(buffers, {type: 'application/binary'});\n",
              "      const a = document.createElement('a');\n",
              "      a.href = window.URL.createObjectURL(blob);\n",
              "      a.download = filename;\n",
              "      div.appendChild(a);\n",
              "      a.click();\n",
              "      div.remove();\n",
              "    }\n",
              "  "
            ]
          },
          "metadata": {}
        },
        {
          "output_type": "display_data",
          "data": {
            "text/plain": [
              "<IPython.core.display.Javascript object>"
            ],
            "application/javascript": [
              "download(\"download_bdbcbb08-a065-467f-b097-7b9ab51d3079\", \"vocabulary.pickle\", 4040357)"
            ]
          },
          "metadata": {}
        },
        {
          "output_type": "display_data",
          "data": {
            "text/plain": [
              "<IPython.core.display.Javascript object>"
            ],
            "application/javascript": [
              "\n",
              "    async function download(id, filename, size) {\n",
              "      if (!google.colab.kernel.accessAllowed) {\n",
              "        return;\n",
              "      }\n",
              "      const div = document.createElement('div');\n",
              "      const label = document.createElement('label');\n",
              "      label.textContent = `Downloading \"${filename}\": `;\n",
              "      div.appendChild(label);\n",
              "      const progress = document.createElement('progress');\n",
              "      progress.max = size;\n",
              "      div.appendChild(progress);\n",
              "      document.body.appendChild(div);\n",
              "\n",
              "      const buffers = [];\n",
              "      let downloaded = 0;\n",
              "\n",
              "      const channel = await google.colab.kernel.comms.open(id);\n",
              "      // Send a message to notify the kernel that we're ready.\n",
              "      channel.send({})\n",
              "\n",
              "      for await (const message of channel.messages) {\n",
              "        // Send a message to notify the kernel that we're ready.\n",
              "        channel.send({})\n",
              "        if (message.buffers) {\n",
              "          for (const buffer of message.buffers) {\n",
              "            buffers.push(buffer);\n",
              "            downloaded += buffer.byteLength;\n",
              "            progress.value = downloaded;\n",
              "          }\n",
              "        }\n",
              "      }\n",
              "      const blob = new Blob(buffers, {type: 'application/binary'});\n",
              "      const a = document.createElement('a');\n",
              "      a.href = window.URL.createObjectURL(blob);\n",
              "      a.download = filename;\n",
              "      div.appendChild(a);\n",
              "      a.click();\n",
              "      div.remove();\n",
              "    }\n",
              "  "
            ]
          },
          "metadata": {}
        },
        {
          "output_type": "display_data",
          "data": {
            "text/plain": [
              "<IPython.core.display.Javascript object>"
            ],
            "application/javascript": [
              "download(\"download_0809b857-5847-46fe-8198-c609418e3dc8\", \"inverse.pickle\", 4040357)"
            ]
          },
          "metadata": {}
        },
        {
          "output_type": "display_data",
          "data": {
            "text/plain": [
              "<IPython.core.display.Javascript object>"
            ],
            "application/javascript": [
              "\n",
              "    async function download(id, filename, size) {\n",
              "      if (!google.colab.kernel.accessAllowed) {\n",
              "        return;\n",
              "      }\n",
              "      const div = document.createElement('div');\n",
              "      const label = document.createElement('label');\n",
              "      label.textContent = `Downloading \"${filename}\": `;\n",
              "      div.appendChild(label);\n",
              "      const progress = document.createElement('progress');\n",
              "      progress.max = size;\n",
              "      div.appendChild(progress);\n",
              "      document.body.appendChild(div);\n",
              "\n",
              "      const buffers = [];\n",
              "      let downloaded = 0;\n",
              "\n",
              "      const channel = await google.colab.kernel.comms.open(id);\n",
              "      // Send a message to notify the kernel that we're ready.\n",
              "      channel.send({})\n",
              "\n",
              "      for await (const message of channel.messages) {\n",
              "        // Send a message to notify the kernel that we're ready.\n",
              "        channel.send({})\n",
              "        if (message.buffers) {\n",
              "          for (const buffer of message.buffers) {\n",
              "            buffers.push(buffer);\n",
              "            downloaded += buffer.byteLength;\n",
              "            progress.value = downloaded;\n",
              "          }\n",
              "        }\n",
              "      }\n",
              "      const blob = new Blob(buffers, {type: 'application/binary'});\n",
              "      const a = document.createElement('a');\n",
              "      a.href = window.URL.createObjectURL(blob);\n",
              "      a.download = filename;\n",
              "      div.appendChild(a);\n",
              "      a.click();\n",
              "      div.remove();\n",
              "    }\n",
              "  "
            ]
          },
          "metadata": {}
        },
        {
          "output_type": "display_data",
          "data": {
            "text/plain": [
              "<IPython.core.display.Javascript object>"
            ],
            "application/javascript": [
              "download(\"download_4ae6c1ff-8e26-42f9-bc1d-b0352b34194e\", \"translator.h5\", 682031752)"
            ]
          },
          "metadata": {}
        }
      ]
    },
    {
      "cell_type": "markdown",
      "source": [
        "### Loading the model and evaluating the model (similar to how it will be done in deployment)"
      ],
      "metadata": {
        "id": "BPsiJcq_DB0p"
      }
    },
    {
      "cell_type": "code",
      "source": [
        "!gdown 1PtyIUtEXNsfUIySl4TrFnw_GKu9PYYmP\n",
        "!gdown 1oWhOl6Z7p-rr29bzYlrrOAQ4_Z4Yz0mn\n",
        "!gdown 1xo3ftTJ2pi5GS7NXVDyQRURrZojufjuX"
      ],
      "metadata": {
        "colab": {
          "base_uri": "https://localhost:8080/"
        },
        "id": "05vMVT_9l-Bc",
        "outputId": "2038ccd2-6cca-4b89-9988-a50a4fd85de6"
      },
      "execution_count": 4,
      "outputs": [
        {
          "output_type": "stream",
          "name": "stdout",
          "text": [
            "Downloading...\n",
            "From: https://drive.google.com/uc?id=1PtyIUtEXNsfUIySl4TrFnw_GKu9PYYmP\n",
            "To: /content/vocabulary.pickle\n",
            "100% 4.04M/4.04M [00:00<00:00, 108MB/s]\n",
            "Downloading...\n",
            "From: https://drive.google.com/uc?id=1oWhOl6Z7p-rr29bzYlrrOAQ4_Z4Yz0mn\n",
            "To: /content/inverse.pickle\n",
            "100% 4.04M/4.04M [00:00<00:00, 115MB/s]\n",
            "Downloading...\n",
            "From (original): https://drive.google.com/uc?id=1xo3ftTJ2pi5GS7NXVDyQRURrZojufjuX\n",
            "From (redirected): https://drive.google.com/uc?id=1xo3ftTJ2pi5GS7NXVDyQRURrZojufjuX&confirm=t&uuid=c59f9af6-55f0-48ad-8639-d2e3d0fa4e68\n",
            "To: /content/translator.h5\n",
            "100% 682M/682M [00:08<00:00, 77.4MB/s]\n"
          ]
        }
      ]
    },
    {
      "cell_type": "markdown",
      "source": [
        "### Loading the Vocabularies"
      ],
      "metadata": {
        "id": "itl7J2eEDQ-U"
      }
    },
    {
      "cell_type": "code",
      "source": [
        "import pickle\n",
        "\n",
        "with open('/content/vocabulary.pickle', 'rb') as f:\n",
        "    vocabulary=pickle.load(f)\n",
        "with open('/content/inverse.pickle', 'rb') as f:\n",
        "    inverse_vocabulary=pickle.load(f)"
      ],
      "metadata": {
        "id": "Z6HKm5zHlTnY"
      },
      "execution_count": 5,
      "outputs": []
    },
    {
      "cell_type": "code",
      "source": [
        "vocab_size=278725"
      ],
      "metadata": {
        "id": "AsI5LcGSmY9J"
      },
      "execution_count": 6,
      "outputs": []
    },
    {
      "cell_type": "markdown",
      "source": [
        "### Loading the Model"
      ],
      "metadata": {
        "id": "sQnOLzzCDVhL"
      }
    },
    {
      "cell_type": "code",
      "source": [
        "new_model = tf.keras.models.load_model('/content/translator.h5', custom_objects={'custom_loss':custom_loss})\n",
        "new_model.summary()"
      ],
      "metadata": {
        "colab": {
          "base_uri": "https://localhost:8080/"
        },
        "id": "olZ_8XPxmeIp",
        "outputId": "043d5f61-0c5f-4fd5-d093-d74b7cd52496"
      },
      "execution_count": 13,
      "outputs": [
        {
          "output_type": "stream",
          "name": "stdout",
          "text": [
            "Model: \"model_1\"\n",
            "__________________________________________________________________________________________________\n",
            " Layer (type)                Output Shape                 Param #   Connected to                  \n",
            "==================================================================================================\n",
            " input_2 (InputLayer)        [(None, 100)]                0         []                            \n",
            "                                                                                                  \n",
            " embedding_1 (Embedding)     (None, 100, 200)             5574500   ['input_2[0][0]']             \n",
            "                                                          0                                       \n",
            "                                                                                                  \n",
            " bidirectional_1 (Bidirecti  (None, 100, 256)             336896    ['embedding_1[0][0]']         \n",
            " onal)                                                                                            \n",
            "                                                                                                  \n",
            " lstm_17 (LSTM)              (None, 100, 80)              107840    ['bidirectional_1[0][0]']     \n",
            "                                                                                                  \n",
            " lstm_18 (LSTM)              (None, 100, 60)              33840     ['lstm_17[0][0]']             \n",
            "                                                                                                  \n",
            " concatenate_10 (Concatenat  (None, 100, 140)             0         ['lstm_17[0][0]',             \n",
            " e)                                                                  'lstm_18[0][0]']             \n",
            "                                                                                                  \n",
            " lstm_19 (LSTM)              (None, 100, 54)              42120     ['concatenate_10[0][0]']      \n",
            "                                                                                                  \n",
            " concatenate_11 (Concatenat  (None, 100, 194)             0         ['concatenate_10[0][0]',      \n",
            " e)                                                                  'lstm_19[0][0]']             \n",
            "                                                                                                  \n",
            " lstm_20 (LSTM)              (None, 100, 40)              37600     ['concatenate_11[0][0]']      \n",
            "                                                                                                  \n",
            " concatenate_12 (Concatenat  (None, 100, 234)             0         ['concatenate_11[0][0]',      \n",
            " e)                                                                  'lstm_20[0][0]']             \n",
            "                                                                                                  \n",
            " lstm_21 (LSTM)              (None, 100, 32)              34176     ['concatenate_12[0][0]']      \n",
            "                                                                                                  \n",
            " concatenate_13 (Concatenat  (None, 100, 266)             0         ['concatenate_12[0][0]',      \n",
            " e)                                                                  'lstm_21[0][0]']             \n",
            "                                                                                                  \n",
            " lstm_22 (LSTM)              (None, 100, 24)              27936     ['concatenate_13[0][0]']      \n",
            "                                                                                                  \n",
            " concatenate_14 (Concatenat  (None, 100, 290)             0         ['concatenate_13[0][0]',      \n",
            " e)                                                                  'lstm_22[0][0]']             \n",
            "                                                                                                  \n",
            " lstm_23 (LSTM)              (None, 100, 16)              19648     ['concatenate_14[0][0]']      \n",
            "                                                                                                  \n",
            " multi_head_attention_1 (Mu  (None, 100, 16)              8056      ['lstm_23[0][0]',             \n",
            " ltiHeadAttention)                                                   'lstm_23[0][0]']             \n",
            "                                                                                                  \n",
            " lstm_24 (LSTM)              (None, 100, 16)              2112      ['multi_head_attention_1[0][0]\n",
            "                                                                    ']                            \n",
            "                                                                                                  \n",
            " lstm_25 (LSTM)              (None, 100, 24)              3936      ['lstm_24[0][0]']             \n",
            "                                                                                                  \n",
            " lstm_26 (LSTM)              (None, 100, 32)              7296      ['lstm_25[0][0]']             \n",
            "                                                                                                  \n",
            " concatenate_15 (Concatenat  (None, 100, 56)              0         ['lstm_25[0][0]',             \n",
            " e)                                                                  'lstm_26[0][0]']             \n",
            "                                                                                                  \n",
            " lstm_27 (LSTM)              (None, 100, 40)              15520     ['concatenate_15[0][0]']      \n",
            "                                                                                                  \n",
            " concatenate_16 (Concatenat  (None, 100, 96)              0         ['concatenate_15[0][0]',      \n",
            " e)                                                                  'lstm_27[0][0]']             \n",
            "                                                                                                  \n",
            " lstm_28 (LSTM)              (None, 100, 54)              32616     ['concatenate_16[0][0]']      \n",
            "                                                                                                  \n",
            " concatenate_17 (Concatenat  (None, 100, 150)             0         ['concatenate_16[0][0]',      \n",
            " e)                                                                  'lstm_28[0][0]']             \n",
            "                                                                                                  \n",
            " lstm_29 (LSTM)              (None, 100, 60)              50640     ['concatenate_17[0][0]']      \n",
            "                                                                                                  \n",
            " concatenate_18 (Concatenat  (None, 100, 210)             0         ['concatenate_17[0][0]',      \n",
            " e)                                                                  'lstm_29[0][0]']             \n",
            "                                                                                                  \n",
            " lstm_30 (LSTM)              (None, 100, 80)              93120     ['concatenate_18[0][0]']      \n",
            "                                                                                                  \n",
            " concatenate_19 (Concatenat  (None, 100, 290)             0         ['concatenate_18[0][0]',      \n",
            " e)                                                                  'lstm_30[0][0]']             \n",
            "                                                                                                  \n",
            " lstm_31 (LSTM)              (None, 100, 128)             214528    ['concatenate_19[0][0]']      \n",
            "                                                                                                  \n",
            " dense_1 (Dense)             (None, 100, 1)               129       ['lstm_31[0][0]']             \n",
            "                                                                                                  \n",
            "==================================================================================================\n",
            "Total params: 56813009 (216.72 MB)\n",
            "Trainable params: 56813009 (216.72 MB)\n",
            "Non-trainable params: 0 (0.00 Byte)\n",
            "__________________________________________________________________________________________________\n"
          ]
        }
      ]
    },
    {
      "cell_type": "markdown",
      "source": [
        "### Prediction using the model"
      ],
      "metadata": {
        "id": "FQ8LOxI2DYqC"
      }
    },
    {
      "cell_type": "code",
      "source": [
        "prepare_output(new_model.predict(prepare_input(\"Amongst all the troubling deficits we struggle with today — we think of financial and economic primarily — the ones that concern me most is the deficit of political dialogue — our ability to address modern conflicts as they are , to go to the source of what they &apos;re all about and to understand the key players and to deal with them .\", \"fr\")))"
      ],
      "metadata": {
        "colab": {
          "base_uri": "https://localhost:8080/",
          "height": 53
        },
        "id": "T7vmfOv1m9TB",
        "outputId": "19fa8bb9-28a7-4f31-cda9-43596c54e992"
      },
      "execution_count": 15,
      "outputs": [
        {
          "output_type": "stream",
          "name": "stdout",
          "text": [
            "1/1 [==============================] - 9s 9s/step\n"
          ]
        },
        {
          "output_type": "execute_result",
          "data": {
            "text/plain": [
              "''"
            ],
            "application/vnd.google.colaboratory.intrinsic+json": {
              "type": "string"
            }
          },
          "metadata": {},
          "execution_count": 15
        }
      ]
    },
    {
      "cell_type": "markdown",
      "source": [
        "Once again, we receive an empty string"
      ],
      "metadata": {
        "id": "1gTs-3mGDeqT"
      }
    },
    {
      "cell_type": "markdown",
      "source": [
        "### Inspecting the output from second last layer"
      ],
      "metadata": {
        "id": "K6L7ZR6wDjNw"
      }
    },
    {
      "cell_type": "code",
      "source": [
        "layer_name = 'lstm_31'\n",
        "intermediate_layer_model = Model(inputs=new_model.input,\n",
        "                                 outputs=new_model.get_layer(layer_name).output)\n",
        "intermediate_output = intermediate_layer_model.predict(prepare_input(\"Amongst all the troubling deficits we struggle with today — we think of financial and economic primarily — the ones that concern me most is the deficit of political dialogue — our ability to address modern conflicts as they are , to go to the source of what they &apos;re all about and to understand the key players and to deal with them .\", \"fr\"))\n",
        "intermediate_output"
      ],
      "metadata": {
        "colab": {
          "base_uri": "https://localhost:8080/"
        },
        "id": "lkKYIQaEnEbG",
        "outputId": "83643257-f334-4d05-e3f3-32fa761f081a"
      },
      "execution_count": 17,
      "outputs": [
        {
          "output_type": "stream",
          "name": "stdout",
          "text": [
            "1/1 [==============================] - 9s 9s/step\n"
          ]
        },
        {
          "output_type": "execute_result",
          "data": {
            "text/plain": [
              "array([[[ 0.       ,  0.7615942,  0.7615942, ...,  0.       ,\n",
              "          0.       , -0.       ],\n",
              "        [ 0.       ,  0.7615942,  0.7615942, ...,  0.       ,\n",
              "          0.       , -0.       ],\n",
              "        [ 0.       ,  0.7615942,  0.7615942, ...,  0.       ,\n",
              "          0.       , -0.       ],\n",
              "        ...,\n",
              "        [ 0.       ,  0.7615942,  0.7615942, ...,  0.       ,\n",
              "          0.       , -0.       ],\n",
              "        [ 0.       ,  0.7615942,  0.7615942, ...,  0.       ,\n",
              "          0.       , -0.       ],\n",
              "        [ 0.       ,  0.7615942,  0.7615942, ...,  0.       ,\n",
              "          0.       , -0.       ]]], dtype=float32)"
            ]
          },
          "metadata": {},
          "execution_count": 17
        }
      ]
    },
    {
      "cell_type": "markdown",
      "source": [
        "It acn be seen that the output of this layer is non zero. Thus, the problem is created by the last layer."
      ],
      "metadata": {
        "id": "orxsobiTDod3"
      }
    },
    {
      "cell_type": "markdown",
      "source": [
        "Sum of the ouput along last axis. All the values are negative. Thus the ReLU activation must have made the negative values 0. Therefore, the model only results in 0."
      ],
      "metadata": {
        "id": "ubkXSyenDxq_"
      }
    },
    {
      "cell_type": "code",
      "source": [
        "np.sum(intermediate_output, axis=2)"
      ],
      "metadata": {
        "colab": {
          "base_uri": "https://localhost:8080/"
        },
        "id": "V6PJh1WwnTO0",
        "outputId": "97b50546-99d8-4c7a-8925-80b4ebfd6f2b"
      },
      "execution_count": 18,
      "outputs": [
        {
          "output_type": "execute_result",
          "data": {
            "text/plain": [
              "array([[-3.330725 , -3.0667868, -3.2567334, -3.5827453, -3.372132 ,\n",
              "        -3.403137 , -3.3908572, -3.3874557, -3.3826506, -3.3781514,\n",
              "        -3.3737688, -3.3695507, -3.3655477, -3.3617933, -3.3583252,\n",
              "        -3.355169 , -3.3523393, -3.349836 , -3.3476481, -3.3457494,\n",
              "        -3.3441088, -3.3426895, -3.3414562, -3.3403754, -3.3394156,\n",
              "        -3.338551 , -3.3377624, -3.3370311, -3.3363445, -3.3356912,\n",
              "        -3.3350642, -3.334457 , -3.3338654, -3.3332853, -3.332716 ,\n",
              "        -3.3321524, -3.3315964, -3.3310447, -3.3304973, -3.329954 ,\n",
              "        -3.329414 , -3.3288777, -3.3283446, -3.3278148, -3.3272872,\n",
              "        -3.3267634, -3.3262427, -3.3257253, -3.325211 , -3.3247008,\n",
              "        -3.324193 , -3.3236902, -3.3231907, -3.3226948, -3.3222032,\n",
              "        -3.321716 , -3.3212333, -3.320755 , -3.3202808, -3.3198123,\n",
              "        -3.319348 , -3.318889 , -3.3184352, -3.3179862, -3.3175435,\n",
              "        -3.3171055, -3.3166742, -3.316249 , -3.315829 , -3.3154154,\n",
              "        -3.3150082, -3.3146071, -3.3142123, -3.3138242, -3.3134437,\n",
              "        -3.313069 , -3.3127017, -3.3123415, -3.3119876, -3.3116422,\n",
              "        -3.311303 , -3.3109717, -3.3106472, -3.3103304, -3.310021 ,\n",
              "        -3.3097186, -3.3094246, -3.3091369, -3.3088577, -3.3085856,\n",
              "        -3.3083215, -3.3080642, -3.3078146, -3.3075721, -3.3073373,\n",
              "        -3.307109 , -3.306889 , -3.306676 , -3.3064692, -3.30627  ]],\n",
              "      dtype=float32)"
            ]
          },
          "metadata": {},
          "execution_count": 18
        }
      ]
    },
    {
      "cell_type": "markdown",
      "source": [
        "### Creating new model without ReLU activation"
      ],
      "metadata": {
        "id": "miwvRtL3D_8K"
      }
    },
    {
      "cell_type": "code",
      "source": [
        "layer_name = 'dense_1'\n",
        "intermediate_layer_model = Model(inputs=new_model.input,\n",
        "                                 outputs=new_model.get_layer(layer_name).output)\n",
        "intermediate_layer_model.layers[-1].activation = None\n",
        "intermediate_output = intermediate_layer_model.predict(prepare_input(\"Amongst all the troubling deficits we struggle with today — we think of financial and economic primarily — the ones that concern me most is the deficit of political dialogue — our ability to address modern conflicts as they are , to go to the source of what they &apos;re all about and to understand the key players and to deal with them .\", \"fr\"))\n",
        "intermediate_output"
      ],
      "metadata": {
        "colab": {
          "base_uri": "https://localhost:8080/"
        },
        "id": "rBOnpRqXnXgH",
        "outputId": "74a0ceb9-6420-441e-f0a9-1a5dd5673833"
      },
      "execution_count": 21,
      "outputs": [
        {
          "output_type": "stream",
          "name": "stdout",
          "text": [
            "1/1 [==============================] - 7s 7s/step\n"
          ]
        },
        {
          "output_type": "execute_result",
          "data": {
            "text/plain": [
              "array([[[-12.547837 ],\n",
              "        [-14.649846 ],\n",
              "        [-14.434379 ],\n",
              "        [-13.215339 ],\n",
              "        [-12.507192 ],\n",
              "        [-12.5845175],\n",
              "        [-12.552455 ],\n",
              "        [-12.543366 ],\n",
              "        [-12.530771 ],\n",
              "        [-12.518998 ],\n",
              "        [-12.5075655],\n",
              "        [-12.496594 ],\n",
              "        [-12.486204 ],\n",
              "        [-12.4764805],\n",
              "        [-12.467515 ],\n",
              "        [-12.459367 ],\n",
              "        [-12.452071 ],\n",
              "        [-12.445624 ],\n",
              "        [-12.439992 ],\n",
              "        [-12.435108 ],\n",
              "        [-12.430888 ],\n",
              "        [-12.427241 ],\n",
              "        [-12.424071 ],\n",
              "        [-12.421291 ],\n",
              "        [-12.418824 ],\n",
              "        [-12.416602 ],\n",
              "        [-12.414575 ],\n",
              "        [-12.412695 ],\n",
              "        [-12.410928 ],\n",
              "        [-12.409249 ],\n",
              "        [-12.407638 ],\n",
              "        [-12.406077 ],\n",
              "        [-12.404556 ],\n",
              "        [-12.403066 ],\n",
              "        [-12.401602 ],\n",
              "        [-12.400154 ],\n",
              "        [-12.398725 ],\n",
              "        [-12.397307 ],\n",
              "        [-12.395901 ],\n",
              "        [-12.394506 ],\n",
              "        [-12.393119 ],\n",
              "        [-12.391742 ],\n",
              "        [-12.390372 ],\n",
              "        [-12.389012 ],\n",
              "        [-12.387658 ],\n",
              "        [-12.386313 ],\n",
              "        [-12.384976 ],\n",
              "        [-12.383649 ],\n",
              "        [-12.382328 ],\n",
              "        [-12.381018 ],\n",
              "        [-12.379716 ],\n",
              "        [-12.378423 ],\n",
              "        [-12.377139 ],\n",
              "        [-12.375869 ],\n",
              "        [-12.374605 ],\n",
              "        [-12.373354 ],\n",
              "        [-12.372113 ],\n",
              "        [-12.370885 ],\n",
              "        [-12.369668 ],\n",
              "        [-12.368463 ],\n",
              "        [-12.36727  ],\n",
              "        [-12.36609  ],\n",
              "        [-12.364923 ],\n",
              "        [-12.3637705],\n",
              "        [-12.36263  ],\n",
              "        [-12.361505 ],\n",
              "        [-12.3603945],\n",
              "        [-12.359298 ],\n",
              "        [-12.358216 ],\n",
              "        [-12.357152 ],\n",
              "        [-12.356102 ],\n",
              "        [-12.355067 ],\n",
              "        [-12.354051 ],\n",
              "        [-12.353049 ],\n",
              "        [-12.352065 ],\n",
              "        [-12.351098 ],\n",
              "        [-12.350148 ],\n",
              "        [-12.3492155],\n",
              "        [-12.348302 ],\n",
              "        [-12.347405 ],\n",
              "        [-12.346528 ],\n",
              "        [-12.345668 ],\n",
              "        [-12.344827 ],\n",
              "        [-12.344004 ],\n",
              "        [-12.3432   ],\n",
              "        [-12.342415 ],\n",
              "        [-12.341648 ],\n",
              "        [-12.340901 ],\n",
              "        [-12.340173 ],\n",
              "        [-12.339463 ],\n",
              "        [-12.338773 ],\n",
              "        [-12.338101 ],\n",
              "        [-12.337448 ],\n",
              "        [-12.336814 ],\n",
              "        [-12.336198 ],\n",
              "        [-12.335603 ],\n",
              "        [-12.335023 ],\n",
              "        [-12.334464 ],\n",
              "        [-12.333921 ],\n",
              "        [-12.333396 ]]], dtype=float32)"
            ]
          },
          "metadata": {},
          "execution_count": 21
        }
      ]
    },
    {
      "cell_type": "markdown",
      "source": [
        "The output in this case is indeed finite. However, all are negative and have very low variance. Thus the output should be scaled in order to derive the outputs in the region where, the vocabulary of the target language lies in the shared vocabulary."
      ],
      "metadata": {
        "id": "h1ZsgpIFEFBb"
      }
    },
    {
      "cell_type": "markdown",
      "source": [
        "The following are the indices of some words from French. These are the starting, middle and ending words in the French part of the vocabulary. Thus the output for French should start from 183626."
      ],
      "metadata": {
        "id": "dv4BiM08EfI2"
      }
    },
    {
      "cell_type": "code",
      "source": [
        "vocabulary['de'], vocabulary['les'], vocabulary['avoir'], vocabulary['honte'], vocabulary['récepteur']"
      ],
      "metadata": {
        "colab": {
          "base_uri": "https://localhost:8080/"
        },
        "id": "UPVqKHURn0SM",
        "outputId": "9415734b-5099-4a73-f2b2-87727d858487"
      },
      "execution_count": 33,
      "outputs": [
        {
          "output_type": "execute_result",
          "data": {
            "text/plain": [
              "(270019, 183626, 183726, 185753, 186955)"
            ]
          },
          "metadata": {},
          "execution_count": 33
        }
      ]
    },
    {
      "cell_type": "markdown",
      "source": [
        "Similarly, the following are the indices of some words from Spanish. Thus the output for Spanish should start from 273988"
      ],
      "metadata": {
        "id": "1cmiMBq2E7WE"
      }
    },
    {
      "cell_type": "code",
      "source": [
        "vocabulary['si'], vocabulary['no'], vocabulary['los']"
      ],
      "metadata": {
        "colab": {
          "base_uri": "https://localhost:8080/"
        },
        "id": "wBGpI3IRvzPK",
        "outputId": "a7e27d14-ecda-4786-c066-0b87e9c77719"
      },
      "execution_count": 93,
      "outputs": [
        {
          "output_type": "execute_result",
          "data": {
            "text/plain": [
              "(273988, 274436, 275774)"
            ]
          },
          "metadata": {},
          "execution_count": 93
        }
      ]
    },
    {
      "cell_type": "markdown",
      "source": [
        "### Output after appropriate scaling\n",
        "The output is divided by the mean to get rid of negative sign and to bring them close to 1. Thus the resulting sentences will be around the starting point of vocabulary for target language."
      ],
      "metadata": {
        "id": "wJR-8RjNFGsC"
      }
    },
    {
      "cell_type": "code",
      "source": [
        "intermediate_output = 18362 * intermediate_output / np.mean(intermediate_output)\n",
        "intermediate_output"
      ],
      "metadata": {
        "colab": {
          "base_uri": "https://localhost:8080/"
        },
        "id": "FKj0JUSGr8GC",
        "outputId": "800ed83f-dd14-42dd-cb54-4d494c0d67cc"
      },
      "execution_count": 34,
      "outputs": [
        {
          "output_type": "execute_result",
          "data": {
            "text/plain": [
              "array([[[18513.973],\n",
              "        [21615.424],\n",
              "        [21297.51 ],\n",
              "        [19498.85 ],\n",
              "        [18454.   ],\n",
              "        [18568.092],\n",
              "        [18520.785],\n",
              "        [18507.375],\n",
              "        [18488.791],\n",
              "        [18471.42 ],\n",
              "        [18454.553],\n",
              "        [18438.365],\n",
              "        [18423.035],\n",
              "        [18408.688],\n",
              "        [18395.459],\n",
              "        [18383.436],\n",
              "        [18372.672],\n",
              "        [18363.158],\n",
              "        [18354.848],\n",
              "        [18347.643],\n",
              "        [18341.416],\n",
              "        [18336.035],\n",
              "        [18331.36 ],\n",
              "        [18327.256],\n",
              "        [18323.617],\n",
              "        [18320.338],\n",
              "        [18317.348],\n",
              "        [18314.572],\n",
              "        [18311.965],\n",
              "        [18309.49 ],\n",
              "        [18307.111],\n",
              "        [18304.809],\n",
              "        [18302.564],\n",
              "        [18300.365],\n",
              "        [18298.205],\n",
              "        [18296.068],\n",
              "        [18293.959],\n",
              "        [18291.87 ],\n",
              "        [18289.793],\n",
              "        [18287.736],\n",
              "        [18285.69 ],\n",
              "        [18283.656],\n",
              "        [18281.637],\n",
              "        [18279.63 ],\n",
              "        [18277.63 ],\n",
              "        [18275.648],\n",
              "        [18273.676],\n",
              "        [18271.717],\n",
              "        [18269.768],\n",
              "        [18267.834],\n",
              "        [18265.914],\n",
              "        [18264.006],\n",
              "        [18262.111],\n",
              "        [18260.236],\n",
              "        [18258.373],\n",
              "        [18256.527],\n",
              "        [18254.697],\n",
              "        [18252.883],\n",
              "        [18251.088],\n",
              "        [18249.309],\n",
              "        [18247.55 ],\n",
              "        [18245.809],\n",
              "        [18244.086],\n",
              "        [18242.387],\n",
              "        [18240.703],\n",
              "        [18239.043],\n",
              "        [18237.404],\n",
              "        [18235.787],\n",
              "        [18234.191],\n",
              "        [18232.621],\n",
              "        [18231.072],\n",
              "        [18229.545],\n",
              "        [18228.045],\n",
              "        [18226.566],\n",
              "        [18225.115],\n",
              "        [18223.688],\n",
              "        [18222.287],\n",
              "        [18220.912],\n",
              "        [18219.562],\n",
              "        [18218.24 ],\n",
              "        [18216.945],\n",
              "        [18215.678],\n",
              "        [18214.436],\n",
              "        [18213.22 ],\n",
              "        [18212.035],\n",
              "        [18210.877],\n",
              "        [18209.746],\n",
              "        [18208.643],\n",
              "        [18207.568],\n",
              "        [18206.521],\n",
              "        [18205.504],\n",
              "        [18204.512],\n",
              "        [18203.549],\n",
              "        [18202.613],\n",
              "        [18201.703],\n",
              "        [18200.826],\n",
              "        [18199.97 ],\n",
              "        [18199.145],\n",
              "        [18198.346],\n",
              "        [18197.57 ]]], dtype=float32)"
            ]
          },
          "metadata": {},
          "execution_count": 34
        }
      ]
    },
    {
      "cell_type": "code",
      "source": [
        "np.max(intermediate_output)"
      ],
      "metadata": {
        "colab": {
          "base_uri": "https://localhost:8080/"
        },
        "id": "KrdVZNT1sO0m",
        "outputId": "93fbffd4-5829-4f05-f01e-c1befa7c494e"
      },
      "execution_count": 35,
      "outputs": [
        {
          "output_type": "execute_result",
          "data": {
            "text/plain": [
              "21615.424"
            ]
          },
          "metadata": {},
          "execution_count": 35
        }
      ]
    },
    {
      "cell_type": "markdown",
      "source": [
        "### Function to generate Output with scaling"
      ],
      "metadata": {
        "id": "E24DI3YCFjJn"
      }
    },
    {
      "cell_type": "code",
      "source": [
        "def generate_output(source, target, start):\n",
        "    output = intermediate_layer_model.predict(prepare_input(source, target))\n",
        "    output = start * output / np.mean(output)\n",
        "    return prepare_output([output[0][:int(len(source)*1.2)]])"
      ],
      "metadata": {
        "id": "ekGlGEVAsXAt"
      },
      "execution_count": 68,
      "outputs": []
    },
    {
      "cell_type": "markdown",
      "source": [
        "### Final Results"
      ],
      "metadata": {
        "id": "4KK39dKNFolJ"
      }
    },
    {
      "cell_type": "code",
      "source": [
        "generate_output(\"Amongst all the troubling deficits we struggle with today — we think of financial and economic primarily — the ones that concern me most is the deficit of political dialogue — our ability to address modern conflicts as they are , to go to the source of what they &apos;re all about and to understand the key players and to deal with them .\", \"fr\", 18362)"
      ],
      "metadata": {
        "colab": {
          "base_uri": "https://localhost:8080/",
          "height": 70
        },
        "id": "sQMmcoNBtTSo",
        "outputId": "9630efac-0403-4362-dcf6-2c7e8d8cfc75"
      },
      "execution_count": 98,
      "outputs": [
        {
          "output_type": "stream",
          "name": "stdout",
          "text": [
            "1/1 [==============================] - 0s 159ms/step\n"
          ]
        },
        {
          "output_type": "execute_result",
          "data": {
            "text/plain": [
              "'биологии sacs déclaré sacs provoque emmené programmation mâle voter occupe talents apporte frappe muscle volant traverse infection réserve banques voyait actif défaut magnétique connait secteurs ignorance'"
            ],
            "application/vnd.google.colaboratory.intrinsic+json": {
              "type": "string"
            }
          },
          "metadata": {},
          "execution_count": 98
        }
      ]
    },
    {
      "cell_type": "code",
      "source": [
        "generate_output(\"Hello, how are you?\", \"es\", 273988)"
      ],
      "metadata": {
        "colab": {
          "base_uri": "https://localhost:8080/",
          "height": 53
        },
        "id": "Jz7a0d3yuqZ3",
        "outputId": "6ed66d97-4062-4ec8-a625-24126db300c9"
      },
      "execution_count": 96,
      "outputs": [
        {
          "output_type": "stream",
          "name": "stdout",
          "text": [
            "1/1 [==============================] - 0s 313ms/step\n"
          ]
        },
        {
          "output_type": "execute_result",
          "data": {
            "text/plain": [
              "'potrebne ekonomiju dostupan razvije reagovati kolumbiji stanovnika hoda pobjeći mislili moglo kini postojanja svojih milijarde djece ono baliotsua funtzionatzeko'"
            ],
            "application/vnd.google.colaboratory.intrinsic+json": {
              "type": "string"
            }
          },
          "metadata": {},
          "execution_count": 96
        }
      ]
    },
    {
      "cell_type": "markdown",
      "source": [
        "While the result are not very accurate, the model is still functional. With a more sophisticated training algorithm, different loss, larger data, and longer training, the model will certainly imporve inperformance."
      ],
      "metadata": {
        "id": "nEO6XDKTFrQS"
      }
    }
  ]
}